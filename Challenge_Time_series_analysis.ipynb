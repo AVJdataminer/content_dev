{
  "nbformat": 4,
  "nbformat_minor": 0,
  "metadata": {
    "kernelspec": {
      "display_name": "Python 3",
      "language": "python",
      "name": "python3"
    },
    "language_info": {
      "codemirror_mode": {
        "name": "ipython",
        "version": 3
      },
      "file_extension": ".py",
      "mimetype": "text/x-python",
      "name": "python",
      "nbconvert_exporter": "python",
      "pygments_lexer": "ipython3",
      "version": "3.7.3"
    },
    "colab": {
      "name": "Challenge: Time series analysis.ipynb",
      "provenance": [],
      "collapsed_sections": [],
      "include_colab_link": true
    }
  },
  "cells": [
    {
      "cell_type": "markdown",
      "metadata": {
        "id": "view-in-github",
        "colab_type": "text"
      },
      "source": [
        "<a href=\"https://colab.research.google.com/github/AVJdataminer/content_dev/blob/master/Challenge_Time_series_analysis.ipynb\" target=\"_parent\"><img src=\"https://colab.research.google.com/assets/colab-badge.svg\" alt=\"Open In Colab\"/></a>"
      ]
    },
    {
      "cell_type": "markdown",
      "metadata": {
        "id": "0QI4ko6AYUf4"
      },
      "source": [
        "# Challenge: Time series analysis Checkpoint 5"
      ]
    },
    {
      "cell_type": "markdown",
      "metadata": {
        "id": "-l35YmykYUf6"
      },
      "source": [
        "## Instructions\n",
        "\n",
        "The time series curriculum [checkpoint 6 instructions can be found here for reference.](https://courses.thinkful.com/dsbc-time-series-v1/checkpoint/6)\n",
        "\n",
        "In this checkpoint we will load a stock price dataset and perform the following tasks: \n",
        "\n",
        "- Plot the time series, along with any logical or necessary differences to get a stationary dataset.\n",
        "- Generate and interpret a PACF for the time series (and/or its differences).\n",
        "- Generate five ARIMA specifications and evaluate their efficacy at modeling your data.\n",
        "- Finally, choose one specification and make a case for it as a logical model for your dataset.\n",
        "\n",
        "In this checkpoint we will test multiple different Arima models and use the RMSE to determine the best model.\n",
        "\n",
        "1. Load the data and convert to a series. The data is a series of daily stock data from Nvidia from `07/15/2020 - 09/15/2020`, using a an api download from the [Alpaca Api tool](https://algotrading101.com/learn/alpaca-trading-api-guide/).\n",
        "2. Define a function to apply the arima model with a set of given parameters and set the train_size to 70% of the data.\n",
        "\n",
        "3. Define a function to iterate over the range of p,d,q values input from testing and generate RMSE scores for each model.\n",
        "4. Set `p_values`,`d_values`, and `q_values` to range from 0 to 3.\n",
        "5. Iterate over the parameter values\n",
        "6. Identify and apply the best set of parameters for the Arima\n",
        "7. Plot the data against the predictions and the forecast for 14 days out past `09/15/2020`.\n",
        "\n",
        "8. Check out the Python module: [pmdarima: ARIMA estimators for Python](https://alkaline-ml.com/pmdarima/quickstart.html) which implements similar automation of ARIMA parameterizations."
      ]
    },
    {
      "cell_type": "markdown",
      "metadata": {
        "id": "oL0U4Gl8YUgC"
      },
      "source": [
        "## Load relevant libraries"
      ]
    },
    {
      "cell_type": "code",
      "metadata": {
        "id": "BXEmff2eYUgC"
      },
      "source": [
        "import numpy as np\n",
        "import pandas as pd\n",
        "import scipy\n",
        "from datetime import datetime\n",
        "import datetime as dt\n",
        "np.random.seed(12345)\n",
        "import warnings\n",
        "warnings.filterwarnings(\"ignore\")\n",
        "import matplotlib.pylab as plt\n",
        "%matplotlib inline"
      ],
      "execution_count": 3,
      "outputs": []
    },
    {
      "cell_type": "markdown",
      "metadata": {
        "id": "zCv0N7_RzgZl"
      },
      "source": [
        "## Load the data"
      ]
    },
    {
      "cell_type": "code",
      "metadata": {
        "id": "DAGPa6XOyT1A"
      },
      "source": [
        "df = pd.read_csv('https://raw.githubusercontent.com/AVJdataminer/content_dev/master/data/daily_nvda.csv')\n",
        "# load dataset as the closing price series\n",
        "series = df.close"
      ],
      "execution_count": 4,
      "outputs": []
    },
    {
      "cell_type": "code",
      "metadata": {
        "scrolled": true,
        "id": "uAvIVsdtYUgS",
        "outputId": "53c6c2da-33fb-49c4-a4b0-dc60f8a42da2",
        "colab": {
          "base_uri": "https://localhost:8080/",
          "height": 204
        }
      },
      "source": [
        "df.head()"
      ],
      "execution_count": 5,
      "outputs": [
        {
          "output_type": "execute_result",
          "data": {
            "text/html": [
              "<div>\n",
              "<style scoped>\n",
              "    .dataframe tbody tr th:only-of-type {\n",
              "        vertical-align: middle;\n",
              "    }\n",
              "\n",
              "    .dataframe tbody tr th {\n",
              "        vertical-align: top;\n",
              "    }\n",
              "\n",
              "    .dataframe thead th {\n",
              "        text-align: right;\n",
              "    }\n",
              "</style>\n",
              "<table border=\"1\" class=\"dataframe\">\n",
              "  <thead>\n",
              "    <tr style=\"text-align: right;\">\n",
              "      <th></th>\n",
              "      <th>timestamp</th>\n",
              "      <th>open</th>\n",
              "      <th>high</th>\n",
              "      <th>low</th>\n",
              "      <th>close</th>\n",
              "      <th>volume</th>\n",
              "      <th>vwap</th>\n",
              "    </tr>\n",
              "  </thead>\n",
              "  <tbody>\n",
              "    <tr>\n",
              "      <th>0</th>\n",
              "      <td>2020-07-15 00:00:00-04:00</td>\n",
              "      <td>416.57</td>\n",
              "      <td>417.3200</td>\n",
              "      <td>402.2300</td>\n",
              "      <td>409.09</td>\n",
              "      <td>10099623.0</td>\n",
              "      <td>409.3327</td>\n",
              "    </tr>\n",
              "    <tr>\n",
              "      <th>1</th>\n",
              "      <td>2020-07-16 00:00:00-04:00</td>\n",
              "      <td>400.60</td>\n",
              "      <td>408.2699</td>\n",
              "      <td>395.8200</td>\n",
              "      <td>405.39</td>\n",
              "      <td>8624118.0</td>\n",
              "      <td>402.2828</td>\n",
              "    </tr>\n",
              "    <tr>\n",
              "      <th>2</th>\n",
              "      <td>2020-07-17 00:00:00-04:00</td>\n",
              "      <td>409.02</td>\n",
              "      <td>409.9400</td>\n",
              "      <td>403.5101</td>\n",
              "      <td>408.06</td>\n",
              "      <td>6657116.0</td>\n",
              "      <td>407.3048</td>\n",
              "    </tr>\n",
              "    <tr>\n",
              "      <th>3</th>\n",
              "      <td>2020-07-20 00:00:00-04:00</td>\n",
              "      <td>410.97</td>\n",
              "      <td>421.2500</td>\n",
              "      <td>406.2700</td>\n",
              "      <td>420.43</td>\n",
              "      <td>7121271.0</td>\n",
              "      <td>415.4516</td>\n",
              "    </tr>\n",
              "    <tr>\n",
              "      <th>4</th>\n",
              "      <td>2020-07-21 00:00:00-04:00</td>\n",
              "      <td>420.52</td>\n",
              "      <td>422.3971</td>\n",
              "      <td>411.4700</td>\n",
              "      <td>413.14</td>\n",
              "      <td>6941671.0</td>\n",
              "      <td>415.3402</td>\n",
              "    </tr>\n",
              "  </tbody>\n",
              "</table>\n",
              "</div>"
            ],
            "text/plain": [
              "                   timestamp    open      high  ...   close      volume      vwap\n",
              "0  2020-07-15 00:00:00-04:00  416.57  417.3200  ...  409.09  10099623.0  409.3327\n",
              "1  2020-07-16 00:00:00-04:00  400.60  408.2699  ...  405.39   8624118.0  402.2828\n",
              "2  2020-07-17 00:00:00-04:00  409.02  409.9400  ...  408.06   6657116.0  407.3048\n",
              "3  2020-07-20 00:00:00-04:00  410.97  421.2500  ...  420.43   7121271.0  415.4516\n",
              "4  2020-07-21 00:00:00-04:00  420.52  422.3971  ...  413.14   6941671.0  415.3402\n",
              "\n",
              "[5 rows x 7 columns]"
            ]
          },
          "metadata": {
            "tags": []
          },
          "execution_count": 5
        }
      ]
    },
    {
      "cell_type": "markdown",
      "metadata": {
        "id": "ykyO3NnnYUgg"
      },
      "source": [
        "Let's check out the data types of our columns."
      ]
    },
    {
      "cell_type": "code",
      "metadata": {
        "scrolled": false,
        "id": "FGwqlmcSYUgh",
        "outputId": "ff8e8fe6-7b20-4e2a-b638-400fef794070",
        "colab": {
          "base_uri": "https://localhost:8080/",
          "height": 153
        }
      },
      "source": [
        "df.dtypes"
      ],
      "execution_count": 6,
      "outputs": [
        {
          "output_type": "execute_result",
          "data": {
            "text/plain": [
              "timestamp     object\n",
              "open         float64\n",
              "high         float64\n",
              "low          float64\n",
              "close        float64\n",
              "volume       float64\n",
              "vwap         float64\n",
              "dtype: object"
            ]
          },
          "metadata": {
            "tags": []
          },
          "execution_count": 6
        }
      ]
    },
    {
      "cell_type": "markdown",
      "metadata": {
        "id": "lErhEPB7YUgl"
      },
      "source": [
        "Check whether there are any null values. "
      ]
    },
    {
      "cell_type": "code",
      "metadata": {
        "id": "EvyXM8czYUgm",
        "outputId": "db8017f3-2754-46e7-de6c-95a206540eea",
        "colab": {
          "base_uri": "https://localhost:8080/",
          "height": 34
        }
      },
      "source": [
        "df.isnull().values.any()"
      ],
      "execution_count": 7,
      "outputs": [
        {
          "output_type": "execute_result",
          "data": {
            "text/plain": [
              "False"
            ]
          },
          "metadata": {
            "tags": []
          },
          "execution_count": 7
        }
      ]
    },
    {
      "cell_type": "markdown",
      "metadata": {
        "id": "WWuqTnagYUhI"
      },
      "source": [
        "## Create a Date column from the Timestamp"
      ]
    },
    {
      "cell_type": "code",
      "metadata": {
        "id": "bWm8oZbJy1yA"
      },
      "source": [
        "def time_stamp(df):\n",
        "    df[\"date\"] = pd.to_datetime(df[\"timestamp\"])\n",
        "    df[\"date\"] = df[\"date\"].dt.date\n",
        "time_stamp(df)"
      ],
      "execution_count": 8,
      "outputs": []
    },
    {
      "cell_type": "code",
      "metadata": {
        "id": "L1jepmPjzvfQ",
        "outputId": "ab280027-d6ae-4f1b-bd63-884bac40767e",
        "colab": {
          "base_uri": "https://localhost:8080/",
          "height": 272
        }
      },
      "source": [
        "df.info()"
      ],
      "execution_count": 9,
      "outputs": [
        {
          "output_type": "stream",
          "text": [
            "<class 'pandas.core.frame.DataFrame'>\n",
            "RangeIndex: 44 entries, 0 to 43\n",
            "Data columns (total 8 columns):\n",
            " #   Column     Non-Null Count  Dtype  \n",
            "---  ------     --------------  -----  \n",
            " 0   timestamp  44 non-null     object \n",
            " 1   open       44 non-null     float64\n",
            " 2   high       44 non-null     float64\n",
            " 3   low        44 non-null     float64\n",
            " 4   close      44 non-null     float64\n",
            " 5   volume     44 non-null     float64\n",
            " 6   vwap       44 non-null     float64\n",
            " 7   date       44 non-null     object \n",
            "dtypes: float64(6), object(2)\n",
            "memory usage: 2.9+ KB\n"
          ],
          "name": "stdout"
        }
      ]
    },
    {
      "cell_type": "markdown",
      "metadata": {
        "id": "Yt2qhjmiYUhi"
      },
      "source": [
        "## Plot the data"
      ]
    },
    {
      "cell_type": "code",
      "metadata": {
        "id": "Y1hP5YJaYUhj",
        "outputId": "5f61977b-5310-48d7-c4f1-dae7cf4cfc92",
        "colab": {
          "base_uri": "https://localhost:8080/",
          "height": 281
        }
      },
      "source": [
        "# series plot\n",
        "df.close.plot()\n",
        "plt.title('NVIDIA Time Series')\n",
        "plt.show()"
      ],
      "execution_count": 10,
      "outputs": [
        {
          "output_type": "display_data",
          "data": {
            "image/png": "[encoded data removed]",
            "text/plain": [
              "<Figure size 432x288 with 1 Axes>"
            ]
          },
          "metadata": {
            "tags": [],
            "needs_background": "light"
          }
        }
      ]
    },
    {
      "cell_type": "markdown",
      "metadata": {
        "id": "p3oIdZ5Fz6_o"
      },
      "source": [
        "## Create a Difference column and plot it"
      ]
    },
    {
      "cell_type": "code",
      "metadata": {
        "id": "yRddPCSKz9pc",
        "outputId": "95488569-3991-44e2-9c81-6a0e0e450e0c",
        "colab": {
          "base_uri": "https://localhost:8080/",
          "height": 281
        }
      },
      "source": [
        "df['diff_1'] = df.close - df.close.shift()\n",
        "df.plot(y='diff_1')\n",
        "plt.title('NVIDIA Time Series')\n",
        "plt.show()"
      ],
      "execution_count": 11,
      "outputs": [
        {
          "output_type": "display_data",
          "data": {
            "image/png": "[encoded data removed]",
            "text/plain": [
              "<Figure size 432x288 with 1 Axes>"
            ]
          },
          "metadata": {
            "tags": [],
            "needs_background": "light"
          }
        }
      ]
    },
    {
      "cell_type": "markdown",
      "metadata": {
        "id": "URJgxgQN0QkO"
      },
      "source": [
        "## PACF plot"
      ]
    },
    {
      "cell_type": "code",
      "metadata": {
        "id": "1mQ68iIy0OMB",
        "outputId": "2a17e161-a957-4ecf-d33c-5e8ce0f07dad",
        "colab": {
          "base_uri": "https://localhost:8080/",
          "height": 301
        }
      },
      "source": [
        "from statsmodels.tsa.stattools import pacf\n",
        "x_acf = pd.DataFrame(pacf(df.close))\n",
        "x_acf.plot(kind='bar')\n",
        "plt.title(\"NVIDIA PACF\")"
      ],
      "execution_count": 12,
      "outputs": [
        {
          "output_type": "execute_result",
          "data": {
            "text/plain": [
              "Text(0.5, 1.0, 'NVIDIA PACF')"
            ]
          },
          "metadata": {
            "tags": []
          },
          "execution_count": 12
        },
        {
          "output_type": "display_data",
          "data": {
            "image/png": "[encoded data removed]",
            "text/plain": [
              "<Figure size 432x288 with 1 Axes>"
            ]
          },
          "metadata": {
            "tags": [],
            "needs_background": "light"
          }
        }
      ]
    },
    {
      "cell_type": "markdown",
      "metadata": {
        "id": "W-pDogys0Yhp"
      },
      "source": [
        "## Difference PACF plot"
      ]
    },
    {
      "cell_type": "code",
      "metadata": {
        "id": "pqFFPX8b0av1",
        "outputId": "1365bbd0-4c6f-43e6-bf2d-00da0af7fd4c",
        "colab": {
          "base_uri": "https://localhost:8080/",
          "height": 301
        }
      },
      "source": [
        "x_acf = pd.DataFrame(pacf(df.diff_1[1:]))\n",
        "x_acf.plot(kind='bar')\n",
        "plt.title(\"NVIDIA Diff PACF\")\n",
        "plt.legend(['difference'])"
      ],
      "execution_count": 13,
      "outputs": [
        {
          "output_type": "execute_result",
          "data": {
            "text/plain": [
              "<matplotlib.legend.Legend at 0x7f3cce88c588>"
            ]
          },
          "metadata": {
            "tags": []
          },
          "execution_count": 13
        },
        {
          "output_type": "display_data",
          "data": {
            "image/png": "[encoded data removed]",
            "text/plain": [
              "<Figure size 432x288 with 1 Axes>"
            ]
          },
          "metadata": {
            "tags": [],
            "needs_background": "light"
          }
        }
      ]
    },
    {
      "cell_type": "markdown",
      "metadata": {
        "id": "PP1U7VwEYUiH"
      },
      "source": [
        "## The ARIMA model\n",
        "\n",
        "Recall that ARIMA models are based around the idea that it's possible to predict the next value in a time series by using information about the most recent data points. It also assumes there will be some randomness in our data that can't ever be predicted.\n",
        "\n",
        "We can find some good parameters for our model using the `sklearn` and `statsmodels` libraries, and in particular `mean_squared_error` and `ARIMA`. "
      ]
    },
    {
      "cell_type": "code",
      "metadata": {
        "id": "O5mEVNZ7YUiH"
      },
      "source": [
        "# Import mean_squared_error and ARIMA\n",
        "from sklearn.metrics import mean_squared_error\n",
        "from statsmodels.tsa.arima_model import ARIMA"
      ],
      "execution_count": 15,
      "outputs": []
    },
    {
      "cell_type": "markdown",
      "metadata": {
        "id": "rNZiSjrVYUiJ"
      },
      "source": [
        "### Make a function to find the MSE of a single ARIMA model.\n",
        "Use a 70/30 train and test split of the input data."
      ]
    },
    {
      "cell_type": "code",
      "metadata": {
        "id": "kW0tghsbYUiK"
      },
      "source": [
        "# Make a function to find the MSE of a single ARIMA model \n",
        "def evaluate_arima_model(data, arima_order):\n",
        "    # Needs to be an integer because it is later used as an index.\n",
        "    split=int(len(data) * 0.7) \n",
        "    train, test = data[0:split], data[split:len(data)]\n",
        "    past=[x for x in train]\n",
        "    # make predictions\n",
        "    predictions = list()\n",
        "    for i in range(len(test)):#timestep-wise comparison between test data and one-step prediction ARIMA model. \n",
        "        model = ARIMA(past, order=arima_order)\n",
        "        model_fit = model.fit(disp=0)\n",
        "        future = model_fit.forecast()[0]\n",
        "        predictions.append(future)\n",
        "        past.append(test[i])\n",
        "    # calculate out of sample error\n",
        "    error = mean_squared_error(test, predictions)\n",
        "    return error"
      ],
      "execution_count": 16,
      "outputs": []
    },
    {
      "cell_type": "markdown",
      "metadata": {
        "id": "T8B1o14sYUiP"
      },
      "source": [
        "### Make a function to evaluate the different ARIMA models with different p, d, and q values"
      ]
    },
    {
      "cell_type": "code",
      "metadata": {
        "id": "W6fnJaLlYUiP"
      },
      "source": [
        "# Make a function to evaluate different ARIMA models with several different p, d, and q values.\n",
        "def evaluate_models(dataset, p_values, d_values, q_values):\n",
        "    best_score, best_cfg = float(\"inf\"), None\n",
        "    for p in p_values:\n",
        "        for d in d_values:\n",
        "            for q in q_values:\n",
        "                order = (p,d,q)\n",
        "                try:\n",
        "                    mse = evaluate_arima_model(dataset, order)\n",
        "                    if mse < best_score:\n",
        "                        best_score, best_cfg = mse, order\n",
        "                    print('ARIMA%s MSE=%.3f' % (order,mse))\n",
        "                except:\n",
        "                    continue\n",
        "    return print('Best ARIMA%s MSE=%.3f' % (best_cfg, best_score))"
      ],
      "execution_count": 17,
      "outputs": []
    },
    {
      "cell_type": "markdown",
      "metadata": {
        "id": "9NGa9y2AHfLu"
      },
      "source": [
        "### Select a range of values for p,d, and q to iterate over."
      ]
    },
    {
      "cell_type": "code",
      "metadata": {
        "id": "mz2AZHziYUiS"
      },
      "source": [
        "# Now, we choose a couple of values to try for each parameter.\n",
        "p_values = [x for x in range(0, 3)]\n",
        "d_values = [x for x in range(0, 3)]\n",
        "q_values = [x for x in range(0, 3)]"
      ],
      "execution_count": 18,
      "outputs": []
    },
    {
      "cell_type": "markdown",
      "metadata": {
        "id": "XfHTBPq9HmX8"
      },
      "source": [
        "### Run the functions over the dataset"
      ]
    },
    {
      "cell_type": "code",
      "metadata": {
        "scrolled": false,
        "id": "wn8qxgeXYUiW",
        "outputId": "25532463-6399-42a2-b9ee-496494349de7",
        "colab": {
          "base_uri": "https://localhost:8080/",
          "height": 306
        }
      },
      "source": [
        "# Finally, we can find the optimum ARIMA model for our data.\n",
        "# Nb. this can take a while...!\n",
        "import warnings\n",
        "warnings.filterwarnings(\"ignore\")\n",
        "evaluate_models(df.close.values, p_values, d_values, q_values)"
      ],
      "execution_count": 20,
      "outputs": [
        {
          "output_type": "stream",
          "text": [
            "ARIMA(0, 0, 0) MSE=3100.798\n",
            "ARIMA(0, 0, 1) MSE=1744.993\n",
            "ARIMA(0, 1, 0) MSE=776.350\n",
            "ARIMA(0, 1, 1) MSE=930.438\n",
            "ARIMA(0, 1, 2) MSE=1150.371\n",
            "ARIMA(0, 2, 0) MSE=1702.998\n",
            "ARIMA(0, 2, 1) MSE=866.883\n",
            "ARIMA(1, 0, 0) MSE=706.610\n",
            "ARIMA(1, 1, 0) MSE=895.375\n",
            "ARIMA(1, 2, 0) MSE=1198.933\n",
            "ARIMA(1, 2, 1) MSE=1003.140\n",
            "ARIMA(2, 0, 0) MSE=769.921\n",
            "ARIMA(2, 1, 0) MSE=1062.929\n",
            "ARIMA(2, 1, 1) MSE=994.450\n",
            "ARIMA(2, 2, 0) MSE=1266.795\n",
            "ARIMA(2, 2, 1) MSE=1331.584\n",
            "Best ARIMA(1, 0, 0) MSE=706.610\n"
          ],
          "name": "stdout"
        }
      ]
    },
    {
      "cell_type": "markdown",
      "metadata": {
        "id": "7rgAZEoyYUiY"
      },
      "source": [
        "So the best p,d, q, parameters for our ARIMA model are 1, 0, 0 respectively. Now we know this, we can build the model."
      ]
    },
    {
      "cell_type": "markdown",
      "metadata": {
        "id": "w-iH_VUwHtkz"
      },
      "source": [
        "### Apply the best model"
      ]
    },
    {
      "cell_type": "code",
      "metadata": {
        "id": "O23lCLQ6AVIl"
      },
      "source": [
        "# Train and test split\n",
        "X = df.close\n",
        "X = X.astype('float32')\n",
        "train_size = int(len(X) * 0.70)\n",
        "train, test = X[0:train_size], X[train_size:]\n",
        "\n",
        "# Build Model \n",
        "model = ARIMA(train, order=(1, 1, 1))  \n",
        "fitted = model.fit(disp=-1)  "
      ],
      "execution_count": null,
      "outputs": []
    },
    {
      "cell_type": "markdown",
      "metadata": {
        "id": "LoWUpgwiYUia"
      },
      "source": [
        "We can take a look at a summary of the model this library has built around our data."
      ]
    },
    {
      "cell_type": "code",
      "metadata": {
        "scrolled": false,
        "id": "1W_EedH9YUib",
        "outputId": "86e495b6-caa8-47d6-b3c0-06ecd4f5c01c",
        "colab": {
          "base_uri": "https://localhost:8080/",
          "height": 292
        }
      },
      "source": [
        "fitted.summary()"
      ],
      "execution_count": 23,
      "outputs": [
        {
          "output_type": "execute_result",
          "data": {
            "text/html": [
              "<table class=\"simpletable\">\n",
              "<caption>ARMA Model Results</caption>\n",
              "<tr>\n",
              "  <th>Dep. Variable:</th>         <td>y</td>        <th>  No. Observations:  </th>    <td>44</td>   \n",
              "</tr>\n",
              "<tr>\n",
              "  <th>Model:</th>            <td>ARMA(1, 0)</td>    <th>  Log Likelihood     </th> <td>-184.237</td>\n",
              "</tr>\n",
              "<tr>\n",
              "  <th>Method:</th>             <td>css-mle</td>     <th>  S.D. of innovations</th>  <td>15.525</td> \n",
              "</tr>\n",
              "<tr>\n",
              "  <th>Date:</th>          <td>Sun, 04 Oct 2020</td> <th>  AIC                </th>  <td>374.475</td>\n",
              "</tr>\n",
              "<tr>\n",
              "  <th>Time:</th>              <td>18:19:00</td>     <th>  BIC                </th>  <td>379.827</td>\n",
              "</tr>\n",
              "<tr>\n",
              "  <th>Sample:</th>                <td>0</td>        <th>  HQIC               </th>  <td>376.460</td>\n",
              "</tr>\n",
              "<tr>\n",
              "  <th></th>                       <td> </td>        <th>                     </th>     <td> </td>   \n",
              "</tr>\n",
              "</table>\n",
              "<table class=\"simpletable\">\n",
              "<tr>\n",
              "     <td></td>        <th>coef</th>     <th>std err</th>      <th>z</th>      <th>P>|z|</th>  <th>[0.025</th>    <th>0.975]</th>  \n",
              "</tr>\n",
              "<tr>\n",
              "  <th>const</th>   <td>  466.3391</td> <td>   32.889</td> <td>   14.179</td> <td> 0.000</td> <td>  401.878</td> <td>  530.800</td>\n",
              "</tr>\n",
              "<tr>\n",
              "  <th>ar.L1.y</th> <td>    0.9472</td> <td>    0.044</td> <td>   21.712</td> <td> 0.000</td> <td>    0.862</td> <td>    1.033</td>\n",
              "</tr>\n",
              "</table>\n",
              "<table class=\"simpletable\">\n",
              "<caption>Roots</caption>\n",
              "<tr>\n",
              "    <td></td>   <th>            Real</th>  <th>         Imaginary</th> <th>         Modulus</th>  <th>        Frequency</th>\n",
              "</tr>\n",
              "<tr>\n",
              "  <th>AR.1</th> <td>           1.0558</td> <td>          +0.0000j</td> <td>           1.0558</td> <td>           0.0000</td>\n",
              "</tr>\n",
              "</table>"
            ],
            "text/plain": [
              "<class 'statsmodels.iolib.summary.Summary'>\n",
              "\"\"\"\n",
              "                              ARMA Model Results                              \n",
              "==============================================================================\n",
              "Dep. Variable:                      y   No. Observations:                   44\n",
              "Model:                     ARMA(1, 0)   Log Likelihood                -184.237\n",
              "Method:                       css-mle   S.D. of innovations             15.525\n",
              "Date:                Sun, 04 Oct 2020   AIC                            374.475\n",
              "Time:                        18:19:00   BIC                            379.827\n",
              "Sample:                             0   HQIC                           376.460\n",
              "                                                                              \n",
              "==============================================================================\n",
              "                 coef    std err          z      P>|z|      [0.025      0.975]\n",
              "------------------------------------------------------------------------------\n",
              "const        466.3391     32.889     14.179      0.000     401.878     530.800\n",
              "ar.L1.y        0.9472      0.044     21.712      0.000       0.862       1.033\n",
              "                                    Roots                                    \n",
              "=============================================================================\n",
              "                  Real          Imaginary           Modulus         Frequency\n",
              "-----------------------------------------------------------------------------\n",
              "AR.1            1.0558           +0.0000j            1.0558            0.0000\n",
              "-----------------------------------------------------------------------------\n",
              "\"\"\""
            ]
          },
          "metadata": {
            "tags": []
          },
          "execution_count": 23
        }
      ]
    },
    {
      "cell_type": "markdown",
      "metadata": {
        "id": "Q2fRLf_RYUie"
      },
      "source": [
        "### Visualize the original dataset plotted against our model. "
      ]
    },
    {
      "cell_type": "code",
      "metadata": {
        "id": "olVzObYnYUie",
        "outputId": "b4b57ddc-cb30-43d8-cfa1-317e3e5652f0",
        "colab": {
          "base_uri": "https://localhost:8080/",
          "height": 298
        }
      },
      "source": [
        "model_fit = model.fit(disp=0)\n",
        "model_fit.plot_predict(dynamic=False)\n",
        "plt.title('Predicted vs Actuals')\n",
        "plt.legend(loc='upper left', fontsize=8)\n",
        "plt.show()"
      ],
      "execution_count": 70,
      "outputs": [
        {
          "output_type": "display_data",
          "data": {
            "text/plain": [
              "<Figure size 1200x500 with 0 Axes>"
            ]
          },
          "metadata": {
            "tags": []
          }
        },
        {
          "output_type": "display_data",
          "data": {
            "image/png": "[encoded data removed]",
            "text/plain": [
              "<Figure size 432x288 with 1 Axes>"
            ]
          },
          "metadata": {
            "tags": [],
            "needs_background": "light"
          }
        }
      ]
    },
    {
      "cell_type": "markdown",
      "metadata": {
        "id": "i_fqQ9ILYUih"
      },
      "source": [
        "## Forecast the data for 14 days into the future and plot\n",
        "\n",
        "We've done well: our model fits pretty closely to our existing data. Let's now use it to forecast 14 days in to the future."
      ]
    },
    {
      "cell_type": "code",
      "metadata": {
        "id": "28bRsgzc-hHg",
        "outputId": "3ed1e7c2-1a7d-4064-b338-02d8e16b15b4",
        "colab": {
          "base_uri": "https://localhost:8080/",
          "height": 460
        }
      },
      "source": [
        "# Builed the Forecast for 14 days into the future\n",
        "fc, se, conf = fitted.forecast(14, alpha=0.05)  # 95% conf\n",
        "\n",
        "# Make as pandas series\n",
        "fc_series = pd.Series(fc, index=test.index)\n",
        "lower_series = pd.Series(conf[:, 0], index=test.index)\n",
        "upper_series = pd.Series(conf[:, 1], index=test.index)\n",
        "\n",
        "# Plot\n",
        "plt.figure(figsize=(12,5), dpi=100)\n",
        "plt.plot(train, label='training')\n",
        "plt.plot(test, label='actual')\n",
        "plt.plot(fc_series, label='forecast')\n",
        "plt.fill_between(lower_series.index, lower_series, upper_series, \n",
        "                 color='k', alpha=.15)\n",
        "plt.title('Forecast vs Actuals')\n",
        "plt.legend(loc='upper left', fontsize=8)\n",
        "plt.show()"
      ],
      "execution_count": 67,
      "outputs": [
        {
          "output_type": "display_data",
          "data": {
            "image/png": "[encoded data removed]",
            "text/plain": [
              "<Figure size 1200x500 with 1 Axes>"
            ]
          },
          "metadata": {
            "tags": [],
            "needs_background": "light"
          }
        }
      ]
    },
    {
      "cell_type": "code",
      "metadata": {
        "id": "w9o1KihiADXw"
      },
      "source": [
        ""
      ],
      "execution_count": null,
      "outputs": []
    }
  ]
}