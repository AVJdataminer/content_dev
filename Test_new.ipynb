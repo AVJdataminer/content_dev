{
 "cells": [
  {
   "cell_type": "markdown",
   "metadata": {},
   "source": [
    "US education spending questions"
   ]
  },
  {
   "cell_type": "code",
   "execution_count": 14,
   "metadata": {},
   "outputs": [
    {
     "output_type": "stream",
     "name": "stdout",
     "text": "Requirement already satisfied: seaborn in /Users/aidenjohnson/Library/Python/2.7/lib/python/site-packages (0.9.1)\nRequirement already satisfied: pandas>=0.17.1 in /Users/aidenjohnson/Library/Python/2.7/lib/python/site-packages (from seaborn) (0.24.2)\nCollecting numpy>=1.10.4\n  Using cached https://files.pythonhosted.org/packages/09/96/84cf406fe7d589f3dba9fc0f737e65985a3526c6d8c783f02d4b5a10825d/numpy-1.16.6-cp27-cp27m-macosx_10_9_x86_64.whl\nCollecting matplotlib>=1.5.3\n  Using cached https://files.pythonhosted.org/packages/30/0e/30f89d643bca7d692b84801bb0c6040cb86021b69cb82482ebfb87681e64/matplotlib-2.2.5-cp27-cp27m-macosx_10_9_x86_64.whl\nCollecting scipy>=0.17.1\n  Using cached https://files.pythonhosted.org/packages/dc/7a/3de1700fb471a6f56353446b4b962a7e4a5baaf24e5e4dec2d91d5f500da/scipy-1.2.3-cp27-cp27m-macosx_10_6_intel.macosx_10_9_intel.macosx_10_9_x86_64.macosx_10_10_intel.macosx_10_10_x86_64.whl\nCollecting python-dateutil>=2.5.0\n  Using cached https://files.pythonhosted.org/packages/d4/70/d60450c3dd48ef87586924207ae8907090de0b306af2bce5d134d78615cb/python_dateutil-2.8.1-py2.py3-none-any.whl\nRequirement already satisfied: pytz>=2011k in /System/Library/Frameworks/Python.framework/Versions/2.7/Extras/lib/python (from pandas>=0.17.1->seaborn) (2013.7)\nCollecting kiwisolver>=1.0.1\n  Using cached https://files.pythonhosted.org/packages/0d/15/ec5f70ac79f378ed0ef5ed8b71e8a04e382115426b2cda9a3ab5ffcf467f/kiwisolver-1.1.0-cp27-cp27m-macosx_10_6_intel.macosx_10_9_intel.macosx_10_9_x86_64.macosx_10_10_intel.macosx_10_10_x86_64.whl\nCollecting subprocess32\n  Using cached https://files.pythonhosted.org/packages/35/f3/7cdeeef9cb05c42fadcc8aa040dd3b80d94e0f6a8dedc4bacebf796c2385/subprocess32-3.5.4-cp27-cp27m-macosx_10_6_intel.whl\nCollecting cycler>=0.10\n  Using cached https://files.pythonhosted.org/packages/f7/d2/e07d3ebb2bd7af696440ce7e754c59dd546ffe1bbe732c8ab68b9c834e61/cycler-0.10.0-py2.py3-none-any.whl\nRequirement already satisfied: six>=1.10 in /System/Library/Frameworks/Python.framework/Versions/2.7/Extras/lib/python (from matplotlib>=1.5.3->seaborn) (1.12.0)\nCollecting backports.functools-lru-cache\n  Using cached https://files.pythonhosted.org/packages/da/d1/080d2bb13773803648281a49e3918f65b31b7beebf009887a529357fd44a/backports.functools_lru_cache-1.6.1-py2.py3-none-any.whl\nRequirement already satisfied: pyparsing!=2.0.4,!=2.1.2,!=2.1.6,>=2.0.1 in /System/Library/Frameworks/Python.framework/Versions/2.7/Extras/lib/python (from matplotlib>=1.5.3->seaborn) (2.0.1)\nRequirement already satisfied: setuptools in /System/Library/Frameworks/Python.framework/Versions/2.7/Extras/lib/python (from kiwisolver>=1.0.1->matplotlib>=1.5.3->seaborn) (41.0.1)\nInstalling collected packages: numpy, kiwisolver, subprocess32, cycler, backports.functools-lru-cache, python-dateutil, matplotlib, scipy\n  Found existing installation: numpy 1.8.0rc1\n\u001b[31mERROR: Cannot uninstall 'numpy'. It is a distutils installed project and thus we cannot accurately determine which files belong to it which would lead to only a partial uninstall.\u001b[0m\n\u001b[33mWARNING: You are using pip version 19.3.1; however, version 20.1.1 is available.\nYou should consider upgrading via the 'pip install --upgrade pip' command.\u001b[0m\n"
    }
   ],
   "source": [
    "! pip install seaborn"
   ]
  },
  {
   "cell_type": "code",
   "execution_count": 15,
   "metadata": {},
   "outputs": [
    {
     "output_type": "error",
     "ename": "ModuleNotFoundError",
     "evalue": "No module named 'seaborn'",
     "traceback": [
      "\u001b[0;31m---------------------------------------------------------------------------\u001b[0m",
      "\u001b[0;31mModuleNotFoundError\u001b[0m                       Traceback (most recent call last)",
      "\u001b[0;32m<ipython-input-15-57b6ae5dbb9a>\u001b[0m in \u001b[0;36m<module>\u001b[0;34m\u001b[0m\n\u001b[1;32m      4\u001b[0m \u001b[0;32mimport\u001b[0m \u001b[0mscipy\u001b[0m\u001b[0;34m\u001b[0m\u001b[0;34m\u001b[0m\u001b[0m\n\u001b[1;32m      5\u001b[0m \u001b[0mget_ipython\u001b[0m\u001b[0;34m(\u001b[0m\u001b[0;34m)\u001b[0m\u001b[0;34m.\u001b[0m\u001b[0mrun_line_magic\u001b[0m\u001b[0;34m(\u001b[0m\u001b[0;34m'matplotlib'\u001b[0m\u001b[0;34m,\u001b[0m \u001b[0;34m'inline'\u001b[0m\u001b[0;34m)\u001b[0m\u001b[0;34m\u001b[0m\u001b[0;34m\u001b[0m\u001b[0m\n\u001b[0;32m----> 6\u001b[0;31m \u001b[0;32mimport\u001b[0m \u001b[0mseaborn\u001b[0m \u001b[0;32mas\u001b[0m \u001b[0msns\u001b[0m\u001b[0;34m\u001b[0m\u001b[0;34m\u001b[0m\u001b[0m\n\u001b[0m\u001b[1;32m      7\u001b[0m \u001b[0;32mimport\u001b[0m \u001b[0mos\u001b[0m\u001b[0;34m\u001b[0m\u001b[0;34m\u001b[0m\u001b[0m\n",
      "\u001b[0;31mModuleNotFoundError\u001b[0m: No module named 'seaborn'"
     ]
    }
   ],
   "source": [
    "import numpy as np\n",
    "import pandas as pd\n",
    "import matplotlib.pyplot as plt\n",
    "import scipy\n",
    "%matplotlib inline\n",
    "import seaborn as sns\n",
    "import os"
   ]
  },
  {
   "cell_type": "code",
   "execution_count": 5,
   "metadata": {},
   "outputs": [
    {
     "output_type": "execute_result",
     "data": {
      "text/plain": "'/Users/aidenjohnson/Library/Mobile Documents/com~apple~CloudDocs/Thinkful/Question_building_figures_tables_notebooks'"
     },
     "metadata": {},
     "execution_count": 5
    }
   ],
   "source": [
    "os.getcwd()"
   ]
  },
  {
   "cell_type": "code",
   "execution_count": 7,
   "metadata": {},
   "outputs": [
    {
     "output_type": "execute_result",
     "data": {
      "text/plain": "['Numbers_tables.numbers',\n 'NN image.png',\n 'EDA_question_Figures',\n 'life_exp_coef_p-values.csv',\n 'Model_Evaluation.ipynb',\n 'regression_challenge_Figures',\n '.DS_Store',\n 'weather_full-reduced_model_metrics.png',\n 'houesprice model coef table.png',\n 'Errors_plots weather data.png',\n 'usedu_spending.csv',\n 'figures_resized',\n 'Model_prep_Figures',\n 'OLS_table.png',\n 'MachineLearning-4_thumb.jpg',\n 'ML_Figures',\n 'making tables in numbers.numbers',\n 'model_prep_feature_eng1',\n 'how NN leverage large datasets.png',\n 'houseprice_resid_plot1.png',\n 'weather_full_reduced_model_metrics.png',\n 'houseprice_resid_plot2.png',\n 'Test_new.ipynb',\n 'Notebook_start.ipynb',\n 'student_exams_scores.csv',\n 'LinearClassifiers.ipynb',\n 'model_prep_pca_feature_engineer2',\n 'le.csv',\n 'fundamentals_Figures',\n 'Life_expectancy_nb.ipynb']"
     },
     "metadata": {},
     "execution_count": 7
    }
   ],
   "source": [
    "os.listdir()"
   ]
  },
  {
   "cell_type": "code",
   "execution_count": 9,
   "metadata": {},
   "outputs": [
    {
     "output_type": "execute_result",
     "data": {
      "text/plain": "       PRIMARY_KEY       STATE  YEAR  ENROLL  TOTAL_REVENUE  FEDERAL_REVENUE  \\\n0     1992_ALABAMA     ALABAMA  1992     NaN      2678885.0         304177.0   \n1      1992_ALASKA      ALASKA  1992     NaN      1049591.0         106780.0   \n2     1992_ARIZONA     ARIZONA  1992     NaN      3258079.0         297888.0   \n3    1992_ARKANSAS    ARKANSAS  1992     NaN      1711959.0         178571.0   \n4  1992_CALIFORNIA  CALIFORNIA  1992     NaN     26260025.0        2072470.0   \n\n   STATE_REVENUE  LOCAL_REVENUE  TOTAL_EXPENDITURE  INSTRUCTION_EXPENDITURE  \\\n0      1659028.0       715680.0          2653798.0                1481703.0   \n1       720711.0       222100.0           972488.0                 498362.0   \n2      1369815.0      1590376.0          3401580.0                1435908.0   \n3       958785.0       574603.0          1743022.0                 964323.0   \n4     16546514.0      7641041.0         27138832.0               14358922.0   \n\n   ...  GRADES_4_G  GRADES_8_G  GRADES_12_G  GRADES_1_8_G  GRADES_9_12_G  \\\n0  ...     57948.0     58025.0      41167.0      471564.0       196386.0   \n1  ...      9748.0      8789.0       6714.0       79117.0        30847.0   \n2  ...     55433.0     49081.0      37410.0      437127.0       175210.0   \n3  ...     34632.0     36011.0      27651.0      281338.0       123113.0   \n4  ...    418418.0    363296.0     270675.0     3286034.0      1372011.0   \n\n   GRADES_ALL_G  AVG_MATH_4_SCORE  AVG_MATH_8_SCORE  AVG_READING_4_SCORE  \\\n0      676174.0        208.327876        252.187522           207.963517   \n1      112335.0               NaN               NaN                  NaN   \n2      614881.0        215.253932        265.366278           206.212716   \n3      405259.0        210.206028        256.312090           208.634458   \n4     4717112.0        208.398961        260.892247           196.764414   \n\n   AVG_READING_8_SCORE  \n0                  NaN  \n1           258.859712  \n2           262.169895  \n3           264.619665  \n4                  NaN  \n\n[5 rows x 25 columns]",
      "text/html": "<div>\n<style scoped>\n    .dataframe tbody tr th:only-of-type {\n        vertical-align: middle;\n    }\n\n    .dataframe tbody tr th {\n        vertical-align: top;\n    }\n\n    .dataframe thead th {\n        text-align: right;\n    }\n</style>\n<table border=\"1\" class=\"dataframe\">\n  <thead>\n    <tr style=\"text-align: right;\">\n      <th></th>\n      <th>PRIMARY_KEY</th>\n      <th>STATE</th>\n      <th>YEAR</th>\n      <th>ENROLL</th>\n      <th>TOTAL_REVENUE</th>\n      <th>FEDERAL_REVENUE</th>\n      <th>STATE_REVENUE</th>\n      <th>LOCAL_REVENUE</th>\n      <th>TOTAL_EXPENDITURE</th>\n      <th>INSTRUCTION_EXPENDITURE</th>\n      <th>...</th>\n      <th>GRADES_4_G</th>\n      <th>GRADES_8_G</th>\n      <th>GRADES_12_G</th>\n      <th>GRADES_1_8_G</th>\n      <th>GRADES_9_12_G</th>\n      <th>GRADES_ALL_G</th>\n      <th>AVG_MATH_4_SCORE</th>\n      <th>AVG_MATH_8_SCORE</th>\n      <th>AVG_READING_4_SCORE</th>\n      <th>AVG_READING_8_SCORE</th>\n    </tr>\n  </thead>\n  <tbody>\n    <tr>\n      <th>0</th>\n      <td>1992_ALABAMA</td>\n      <td>ALABAMA</td>\n      <td>1992</td>\n      <td>NaN</td>\n      <td>2678885.0</td>\n      <td>304177.0</td>\n      <td>1659028.0</td>\n      <td>715680.0</td>\n      <td>2653798.0</td>\n      <td>1481703.0</td>\n      <td>...</td>\n      <td>57948.0</td>\n      <td>58025.0</td>\n      <td>41167.0</td>\n      <td>471564.0</td>\n      <td>196386.0</td>\n      <td>676174.0</td>\n      <td>208.327876</td>\n      <td>252.187522</td>\n      <td>207.963517</td>\n      <td>NaN</td>\n    </tr>\n    <tr>\n      <th>1</th>\n      <td>1992_ALASKA</td>\n      <td>ALASKA</td>\n      <td>1992</td>\n      <td>NaN</td>\n      <td>1049591.0</td>\n      <td>106780.0</td>\n      <td>720711.0</td>\n      <td>222100.0</td>\n      <td>972488.0</td>\n      <td>498362.0</td>\n      <td>...</td>\n      <td>9748.0</td>\n      <td>8789.0</td>\n      <td>6714.0</td>\n      <td>79117.0</td>\n      <td>30847.0</td>\n      <td>112335.0</td>\n      <td>NaN</td>\n      <td>NaN</td>\n      <td>NaN</td>\n      <td>258.859712</td>\n    </tr>\n    <tr>\n      <th>2</th>\n      <td>1992_ARIZONA</td>\n      <td>ARIZONA</td>\n      <td>1992</td>\n      <td>NaN</td>\n      <td>3258079.0</td>\n      <td>297888.0</td>\n      <td>1369815.0</td>\n      <td>1590376.0</td>\n      <td>3401580.0</td>\n      <td>1435908.0</td>\n      <td>...</td>\n      <td>55433.0</td>\n      <td>49081.0</td>\n      <td>37410.0</td>\n      <td>437127.0</td>\n      <td>175210.0</td>\n      <td>614881.0</td>\n      <td>215.253932</td>\n      <td>265.366278</td>\n      <td>206.212716</td>\n      <td>262.169895</td>\n    </tr>\n    <tr>\n      <th>3</th>\n      <td>1992_ARKANSAS</td>\n      <td>ARKANSAS</td>\n      <td>1992</td>\n      <td>NaN</td>\n      <td>1711959.0</td>\n      <td>178571.0</td>\n      <td>958785.0</td>\n      <td>574603.0</td>\n      <td>1743022.0</td>\n      <td>964323.0</td>\n      <td>...</td>\n      <td>34632.0</td>\n      <td>36011.0</td>\n      <td>27651.0</td>\n      <td>281338.0</td>\n      <td>123113.0</td>\n      <td>405259.0</td>\n      <td>210.206028</td>\n      <td>256.312090</td>\n      <td>208.634458</td>\n      <td>264.619665</td>\n    </tr>\n    <tr>\n      <th>4</th>\n      <td>1992_CALIFORNIA</td>\n      <td>CALIFORNIA</td>\n      <td>1992</td>\n      <td>NaN</td>\n      <td>26260025.0</td>\n      <td>2072470.0</td>\n      <td>16546514.0</td>\n      <td>7641041.0</td>\n      <td>27138832.0</td>\n      <td>14358922.0</td>\n      <td>...</td>\n      <td>418418.0</td>\n      <td>363296.0</td>\n      <td>270675.0</td>\n      <td>3286034.0</td>\n      <td>1372011.0</td>\n      <td>4717112.0</td>\n      <td>208.398961</td>\n      <td>260.892247</td>\n      <td>196.764414</td>\n      <td>NaN</td>\n    </tr>\n  </tbody>\n</table>\n<p>5 rows × 25 columns</p>\n</div>"
     },
     "metadata": {},
     "execution_count": 9
    }
   ],
   "source": [
    "df = pd.read_csv('usedu_spending.csv')\n",
    "df.head()"
   ]
  },
  {
   "cell_type": "code",
   "execution_count": 10,
   "metadata": {},
   "outputs": [
    {
     "output_type": "error",
     "ename": "NameError",
     "evalue": "name 'sns' is not defined",
     "traceback": [
      "\u001b[0;31m---------------------------------------------------------------------------\u001b[0m",
      "\u001b[0;31mNameError\u001b[0m                                 Traceback (most recent call last)",
      "\u001b[0;32m<ipython-input-10-04e09f17b23e>\u001b[0m in \u001b[0;36m<module>\u001b[0;34m\u001b[0m\n\u001b[0;32m----> 1\u001b[0;31m \u001b[0msns\u001b[0m\u001b[0;34m.\u001b[0m\u001b[0mheatmap\u001b[0m\u001b[0;34m(\u001b[0m\u001b[0mdf\u001b[0m\u001b[0;34m.\u001b[0m\u001b[0misnull\u001b[0m\u001b[0;34m(\u001b[0m\u001b[0;34m)\u001b[0m\u001b[0;34m,\u001b[0m \u001b[0mcbar\u001b[0m\u001b[0;34m=\u001b[0m\u001b[0;32mFalse\u001b[0m\u001b[0;34m)\u001b[0m\u001b[0;34m\u001b[0m\u001b[0;34m\u001b[0m\u001b[0m\n\u001b[0m",
      "\u001b[0;31mNameError\u001b[0m: name 'sns' is not defined"
     ]
    }
   ],
   "source": [
    "sns.heatmap(df.isnull(), cbar=False)"
   ]
  },
  {
   "cell_type": "code",
   "execution_count": null,
   "metadata": {},
   "outputs": [],
   "source": []
  }
 ],
 "metadata": {
  "language_info": {
   "name": "python",
   "codemirror_mode": {
    "name": "ipython",
    "version": 3
   },
   "version": "3.7.4-final"
  },
  "orig_nbformat": 2,
  "file_extension": ".py",
  "mimetype": "text/x-python",
  "name": "python",
  "npconvert_exporter": "python",
  "pygments_lexer": "ipython3",
  "version": 3,
  "kernelspec": {
   "name": "python3",
   "display_name": "Python 3"
  }
 },
 "nbformat": 4,
 "nbformat_minor": 2
}