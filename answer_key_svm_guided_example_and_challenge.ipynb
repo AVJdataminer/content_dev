{
  "nbformat": 4,
  "nbformat_minor": 0,
  "metadata": {
    "hide_input": false,
    "kernelspec": {
      "display_name": "Python 3",
      "language": "python",
      "name": "python3"
    },
    "language_info": {
      "codemirror_mode": {
        "name": "ipython",
        "version": 3
      },
      "file_extension": ".py",
      "mimetype": "text/x-python",
      "name": "python",
      "nbconvert_exporter": "python",
      "pygments_lexer": "ipython3",
      "version": "3.7.6"
    },
    "toc": {
      "colors": {
        "hover_highlight": "#DAA520",
        "running_highlight": "#FF0000",
        "selected_highlight": "#FFD700"
      },
      "moveMenuLeft": true,
      "nav_menu": {
        "height": "12px",
        "width": "252px"
      },
      "navigate_menu": true,
      "number_sections": true,
      "sideBar": true,
      "threshold": 4,
      "toc_cell": false,
      "toc_section_display": "block",
      "toc_window_display": false
    },
    "colab": {
      "name": "answer_key_svm_guided_example_and_challenge.ipynb",
      "provenance": [],
      "collapsed_sections": [],
      "include_colab_link": true
    }
  },
  "cells": [
    {
      "cell_type": "markdown",
      "metadata": {
        "id": "view-in-github",
        "colab_type": "text"
      },
      "source": [
        "<a href=\"https://colab.research.google.com/github/AVJdataminer/content_dev/blob/master/answer_key_svm_guided_example_and_challenge.ipynb\" target=\"_parent\"><img src=\"https://colab.research.google.com/assets/colab-badge.svg\" alt=\"Open In Colab\"/></a>"
      ]
    },
    {
      "cell_type": "code",
      "metadata": {
        "run_control": {
          "frozen": false,
          "read_only": false
        },
        "id": "BUpkAC9GA6Ms",
        "colab_type": "code",
        "colab": {}
      },
      "source": [
        "import numpy as np\n",
        "import pandas as pd\n",
        "import scipy\n",
        "from sklearn.svm import SVR"
      ],
      "execution_count": 2,
      "outputs": []
    },
    {
      "cell_type": "markdown",
      "metadata": {
        "run_control": {
          "frozen": false,
          "read_only": false
        },
        "id": "Zy2VatzyA6Mw",
        "colab_type": "text"
      },
      "source": [
        "\n",
        "First let's load the dataset. More information about the data can be found on [Kaggle.](https://www.kaggle.com/hugodarwood/epirecipes). "
      ]
    },
    {
      "cell_type": "code",
      "metadata": {
        "run_control": {
          "frozen": false,
          "read_only": false
        },
        "id": "ADMBKfmeA6Mx",
        "colab_type": "code",
        "colab": {
          "base_uri": "https://localhost:8080/",
          "height": 34
        },
        "outputId": "4d2ec2eb-f317-4850-c9cb-5e3857875b57"
      },
      "source": [
        "raw_data = pd.read_csv('https://tf-assets-prod.s3.amazonaws.com/tf-curric/data-science/epi_r.csv')\n",
        "raw_data.shape"
      ],
      "execution_count": 3,
      "outputs": [
        {
          "output_type": "execute_result",
          "data": {
            "text/plain": [
              "(20052, 680)"
            ]
          },
          "metadata": {
            "tags": []
          },
          "execution_count": 3
        }
      ]
    },
    {
      "cell_type": "markdown",
      "metadata": {
        "id": "BjvHMwOCJ2Zg",
        "colab_type": "text"
      },
      "source": [
        "Run the original SVM model and score the result. **Note: This takes a while to run.**"
      ]
    },
    {
      "cell_type": "code",
      "metadata": {
        "id": "Oo9-ikSBLeV8",
        "colab_type": "code",
        "colab": {
          "base_uri": "https://localhost:8080/",
          "height": 102
        },
        "outputId": "25f098fd-afe1-4496-dcb3-53b0c472a28e"
      },
      "source": [
        "# Count nulls \n",
        "null_count = raw_data.isnull().sum()\n",
        "null_count[null_count>0]"
      ],
      "execution_count": 3,
      "outputs": [
        {
          "output_type": "execute_result",
          "data": {
            "text/plain": [
              "calories    4117\n",
              "protein     4162\n",
              "fat         4183\n",
              "sodium      4119\n",
              "dtype: int64"
            ]
          },
          "metadata": {
            "tags": []
          },
          "execution_count": 3
        }
      ]
    },
    {
      "cell_type": "code",
      "metadata": {
        "id": "g6ChgLeCLhBa",
        "colab_type": "code",
        "colab": {
          "base_uri": "https://localhost:8080/",
          "height": 34
        },
        "outputId": "03cb5052-dcd5-4197-8cbe-2d3929cfe394"
      },
      "source": [
        "raw_data = raw_data.dropna()\n",
        "raw_data.shape"
      ],
      "execution_count": 4,
      "outputs": [
        {
          "output_type": "execute_result",
          "data": {
            "text/plain": [
              "(15864, 680)"
            ]
          },
          "metadata": {
            "tags": []
          },
          "execution_count": 4
        }
      ]
    },
    {
      "cell_type": "code",
      "metadata": {
        "run_control": {
          "frozen": false,
          "read_only": false
        },
        "id": "yHYKuXF7A6NM",
        "colab_type": "code",
        "colab": {
          "base_uri": "https://localhost:8080/",
          "height": 51
        },
        "outputId": "e84cfb45-02c6-43c1-bf07-8cada734e47a"
      },
      "source": [
        "svr = SVR()\n",
        "X = raw_data.drop(['rating', 'title', 'calories', 'protein', 'fat', 'sodium'], 1).sample(frac=0.3, replace=True, random_state=1)\n",
        "Y = raw_data.rating.sample(frac=0.3, replace=True, random_state=1)\n",
        "svr.fit(X,Y)"
      ],
      "execution_count": 10,
      "outputs": [
        {
          "output_type": "execute_result",
          "data": {
            "text/plain": [
              "SVR(C=1.0, cache_size=200, coef0=0.0, degree=3, epsilon=0.1, gamma='scale',\n",
              "    kernel='rbf', max_iter=-1, shrinking=True, tol=0.001, verbose=False)"
            ]
          },
          "metadata": {
            "tags": []
          },
          "execution_count": 10
        }
      ]
    },
    {
      "cell_type": "code",
      "metadata": {
        "run_control": {
          "frozen": false,
          "read_only": false
        },
        "id": "UrL_6bxvA6NV",
        "colab_type": "code",
        "colab": {
          "base_uri": "https://localhost:8080/",
          "height": 34
        },
        "outputId": "570161cf-f210-468d-87d7-7a8fd411ca02"
      },
      "source": [
        "svr.score(X, Y)"
      ],
      "execution_count": 11,
      "outputs": [
        {
          "output_type": "execute_result",
          "data": {
            "text/plain": [
              "0.4099845913800794"
            ]
          },
          "metadata": {
            "tags": []
          },
          "execution_count": 11
        }
      ]
    },
    {
      "cell_type": "markdown",
      "metadata": {
        "id": "Wy9SP0pRKF9P",
        "colab_type": "text"
      },
      "source": [
        "The model performance was pretty abysmal. Let's run a cross validated instance to see if the results improve or are atleast stable. **This also takes some time to run**"
      ]
    },
    {
      "cell_type": "code",
      "metadata": {
        "run_control": {
          "frozen": false,
          "read_only": false
        },
        "id": "fE86SNUIA6Na",
        "colab_type": "code",
        "colab": {
          "base_uri": "https://localhost:8080/",
          "height": 34
        },
        "outputId": "8702d0b3-217a-4a14-eb78-a34c18693a76"
      },
      "source": [
        "from sklearn.model_selection import cross_val_score\n",
        "cross_val_score(svr, X, Y, cv=5)"
      ],
      "execution_count": 12,
      "outputs": [
        {
          "output_type": "execute_result",
          "data": {
            "text/plain": [
              "array([0.19563385, 0.14683481, 0.15013401, 0.13597791, 0.16082192])"
            ]
          },
          "metadata": {
            "tags": []
          },
          "execution_count": 12
        }
      ]
    },
    {
      "cell_type": "markdown",
      "metadata": {
        "run_control": {
          "frozen": false,
          "read_only": false
        },
        "id": "NpFkVb6zA6NP",
        "colab_type": "text"
      },
      "source": [
        "__Note that this actually takes quite a while to run, compared to some of the models we've done before.__ That's because of the high number of features we have in this dataset."
      ]
    },
    {
      "cell_type": "markdown",
      "metadata": {
        "run_control": {
          "frozen": false,
          "read_only": false
        },
        "id": "t9P54x55A6Nd",
        "colab_type": "text"
      },
      "source": [
        "Oh dear, so this did seem not to work very well. In fact it is remarkably poor. Now there are many things that we could do here. \n",
        "\n",
        "__Here is your challenge.__  \n",
        "\n",
        "Let's take some steps to improve our model. There are a few ways we can try to address this poor performance.:\n",
        "\n",
        "1. We could go back and clean up our feature set. There might be some gains to be made by getting rid of the noise.\n",
        "\n",
        "2. We could also see how removing the nulls but including dietary information performs. Though its a slight change to the question we could still possibly get some improvements there.\n",
        "\n",
        "3. Lastly, we could take our regression problem and turn it into a classifier. With this number of features and a discontinuous outcome, we might have better luck thinking of this as a classification problem. We could make it simpler still by instead of classifying on each possible value, group reviews to some decided high and low values to convert this to a binary classification problem.\n",
        "\n",
        "Ideally we would like to cut our feature set down to the 30 most valuable features.\n",
        "\n",
        "Good luck!"
      ]
    },
    {
      "cell_type": "markdown",
      "metadata": {
        "id": "jsUN_KQCE8wR",
        "colab_type": "text"
      },
      "source": [
        "1. Clean up the features a bit \n",
        "  - remove \n",
        "2. removing the nulls but including dietary info only\n",
        "3. adding dietary info to the other features\n",
        "4. Convert regression problem to classification - with high and low classes\n",
        "\n"
      ]
    },
    {
      "cell_type": "code",
      "metadata": {
        "id": "HVtebx8qQSmV",
        "colab_type": "code",
        "colab": {
          "base_uri": "https://localhost:8080/",
          "height": 34
        },
        "outputId": "e5f7e98a-a19b-4738-e34e-794a102279a7"
      },
      "source": [
        "#print the size of the data\n",
        "raw_data.shape"
      ],
      "execution_count": 5,
      "outputs": [
        {
          "output_type": "execute_result",
          "data": {
            "text/plain": [
              "(20052, 680)"
            ]
          },
          "metadata": {
            "tags": []
          },
          "execution_count": 5
        }
      ]
    },
    {
      "cell_type": "markdown",
      "metadata": {
        "id": "hw69ONY5IOyx",
        "colab_type": "text"
      },
      "source": [
        "## 1. Feature Cleanup "
      ]
    },
    {
      "cell_type": "markdown",
      "metadata": {
        "id": "UhZ8-yq6V6Yj",
        "colab_type": "text"
      },
      "source": [
        "Get the word count for each feature."
      ]
    },
    {
      "cell_type": "code",
      "metadata": {
        "id": "BoPba6bMTG8x",
        "colab_type": "code",
        "colab": {}
      },
      "source": [
        "a = []\n",
        "d = []\n",
        "feature_str = raw_data.drop(['rating', 'title', 'calories', 'protein', 'fat', 'sodium'], 1).columns\n",
        "for wrd in feature_str:\n",
        "    res = len(wrd.split())\n",
        "    a.append([wrd,res])\n",
        "    d = pd.DataFrame(a, columns=('feature', 'word count'))"
      ],
      "execution_count": 5,
      "outputs": []
    },
    {
      "cell_type": "code",
      "metadata": {
        "id": "PBNxhLIwT-G2",
        "colab_type": "code",
        "colab": {
          "base_uri": "https://localhost:8080/",
          "height": 102
        },
        "outputId": "9789ee7e-47a0-4577-ab39-211c8e380375"
      },
      "source": [
        "d['word count'].value_counts()"
      ],
      "execution_count": 6,
      "outputs": [
        {
          "output_type": "execute_result",
          "data": {
            "text/plain": [
              "1    495\n",
              "2    146\n",
              "3     29\n",
              "4      4\n",
              "Name: word count, dtype: int64"
            ]
          },
          "metadata": {
            "tags": []
          },
          "execution_count": 6
        }
      ]
    },
    {
      "cell_type": "code",
      "metadata": {
        "id": "1ELf8oUQW94E",
        "colab_type": "code",
        "colab": {
          "base_uri": "https://localhost:8080/",
          "height": 173
        },
        "outputId": "3ac838cc-1a6d-40e3-d753-a1380481d065"
      },
      "source": [
        "d[(d['word count']==4)]"
      ],
      "execution_count": 7,
      "outputs": [
        {
          "output_type": "execute_result",
          "data": {
            "text/html": [
              "<div>\n",
              "<style scoped>\n",
              "    .dataframe tbody tr th:only-of-type {\n",
              "        vertical-align: middle;\n",
              "    }\n",
              "\n",
              "    .dataframe tbody tr th {\n",
              "        vertical-align: top;\n",
              "    }\n",
              "\n",
              "    .dataframe thead th {\n",
              "        text-align: right;\n",
              "    }\n",
              "</style>\n",
              "<table border=\"1\" class=\"dataframe\">\n",
              "  <thead>\n",
              "    <tr style=\"text-align: right;\">\n",
              "      <th></th>\n",
              "      <th>feature</th>\n",
              "      <th>word count</th>\n",
              "    </tr>\n",
              "  </thead>\n",
              "  <tbody>\n",
              "    <tr>\n",
              "      <th>4</th>\n",
              "      <td>30 days of groceries</td>\n",
              "      <td>4</td>\n",
              "    </tr>\n",
              "    <tr>\n",
              "      <th>146</th>\n",
              "      <td>cook like a diner</td>\n",
              "      <td>4</td>\n",
              "    </tr>\n",
              "    <tr>\n",
              "      <th>202</th>\n",
              "      <td>epi loves the microwave</td>\n",
              "      <td>4</td>\n",
              "    </tr>\n",
              "    <tr>\n",
              "      <th>404</th>\n",
              "      <td>no meat, no problem</td>\n",
              "      <td>4</td>\n",
              "    </tr>\n",
              "  </tbody>\n",
              "</table>\n",
              "</div>"
            ],
            "text/plain": [
              "                     feature  word count\n",
              "4       30 days of groceries           4\n",
              "146        cook like a diner           4\n",
              "202  epi loves the microwave           4\n",
              "404      no meat, no problem           4"
            ]
          },
          "metadata": {
            "tags": []
          },
          "execution_count": 7
        }
      ]
    },
    {
      "cell_type": "code",
      "metadata": {
        "id": "9WxzxGzDIk3x",
        "colab_type": "code",
        "colab": {}
      },
      "source": [
        "new_cols = d[(d['word count']==1)].feature"
      ],
      "execution_count": 8,
      "outputs": []
    },
    {
      "cell_type": "code",
      "metadata": {
        "id": "O5s6VZEvI-8Y",
        "colab_type": "code",
        "colab": {}
      },
      "source": [
        "X = raw_data.drop(['rating', 'title', 'calories', 'protein', 'fat', 'sodium'], 1).sample(frac=0.3, replace=True, random_state=1)\n",
        "Y = raw_data.rating.sample(frac=0.3, replace=True, random_state=1)"
      ],
      "execution_count": 9,
      "outputs": []
    },
    {
      "cell_type": "code",
      "metadata": {
        "id": "Dkf12oS1JEd1",
        "colab_type": "code",
        "colab": {}
      },
      "source": [
        "x_new = X[new_cols]"
      ],
      "execution_count": 10,
      "outputs": []
    },
    {
      "cell_type": "code",
      "metadata": {
        "id": "EmlWYmEfJJ3C",
        "colab_type": "code",
        "colab": {
          "base_uri": "https://localhost:8080/",
          "height": 34
        },
        "outputId": "5c0afaae-9751-4f99-f025-4d5bc9385203"
      },
      "source": [
        "from sklearn.model_selection import cross_val_score\n",
        "svr = SVR()\n",
        "cross_val_score(svr, x_new, Y, cv=5)"
      ],
      "execution_count": 11,
      "outputs": [
        {
          "output_type": "execute_result",
          "data": {
            "text/plain": [
              "array([0.21245565, 0.15740591, 0.14852936, 0.12297991, 0.07369811])"
            ]
          },
          "metadata": {
            "tags": []
          },
          "execution_count": 11
        }
      ]
    },
    {
      "cell_type": "markdown",
      "metadata": {
        "id": "yaKcQ7KVVXRt",
        "colab_type": "text"
      },
      "source": [
        "Well that didn't improve the performance much, let's move on to another strategy."
      ]
    },
    {
      "cell_type": "markdown",
      "metadata": {
        "id": "9VlToEUsJQEM",
        "colab_type": "text"
      },
      "source": [
        "## Now try using the feature counts to reduce the number of features."
      ]
    },
    {
      "cell_type": "code",
      "metadata": {
        "id": "k1NDNCEzHEXV",
        "colab_type": "code",
        "colab": {}
      },
      "source": [
        "dsub = raw_data[feature_str]"
      ],
      "execution_count": 12,
      "outputs": []
    },
    {
      "cell_type": "code",
      "metadata": {
        "id": "nqEdrLDGXwXY",
        "colab_type": "code",
        "colab": {
          "base_uri": "https://localhost:8080/",
          "height": 204
        },
        "outputId": "f5c4e94f-6788-439c-d956-21395fc5209a"
      },
      "source": [
        "feature_counts = pd.DataFrame(dsub.sum(axis =0)).reset_index()\n",
        "feature_counts.columns = ['variable','cnts']\n",
        "feature_counts = feature_counts.sort_values(by='cnts',ascending=False)\n",
        "feature_counts['pct'] = feature_counts['cnts']/feature_counts['cnts'].max()\n",
        "feature_counts.head()"
      ],
      "execution_count": 13,
      "outputs": [
        {
          "output_type": "execute_result",
          "data": {
            "text/html": [
              "<div>\n",
              "<style scoped>\n",
              "    .dataframe tbody tr th:only-of-type {\n",
              "        vertical-align: middle;\n",
              "    }\n",
              "\n",
              "    .dataframe tbody tr th {\n",
              "        vertical-align: top;\n",
              "    }\n",
              "\n",
              "    .dataframe thead th {\n",
              "        text-align: right;\n",
              "    }\n",
              "</style>\n",
              "<table border=\"1\" class=\"dataframe\">\n",
              "  <thead>\n",
              "    <tr style=\"text-align: right;\">\n",
              "      <th></th>\n",
              "      <th>variable</th>\n",
              "      <th>cnts</th>\n",
              "      <th>pct</th>\n",
              "    </tr>\n",
              "  </thead>\n",
              "  <tbody>\n",
              "    <tr>\n",
              "      <th>57</th>\n",
              "      <td>bon appétit</td>\n",
              "      <td>7383.0</td>\n",
              "      <td>1.000000</td>\n",
              "    </tr>\n",
              "    <tr>\n",
              "      <th>453</th>\n",
              "      <td>peanut free</td>\n",
              "      <td>6721.0</td>\n",
              "      <td>0.910335</td>\n",
              "    </tr>\n",
              "    <tr>\n",
              "      <th>574</th>\n",
              "      <td>soy free</td>\n",
              "      <td>6502.0</td>\n",
              "      <td>0.880672</td>\n",
              "    </tr>\n",
              "    <tr>\n",
              "      <th>240</th>\n",
              "      <td>gourmet</td>\n",
              "      <td>5683.0</td>\n",
              "      <td>0.769741</td>\n",
              "    </tr>\n",
              "    <tr>\n",
              "      <th>624</th>\n",
              "      <td>tree nut free</td>\n",
              "      <td>5616.0</td>\n",
              "      <td>0.760666</td>\n",
              "    </tr>\n",
              "  </tbody>\n",
              "</table>\n",
              "</div>"
            ],
            "text/plain": [
              "          variable    cnts       pct\n",
              "57     bon appétit  7383.0  1.000000\n",
              "453    peanut free  6721.0  0.910335\n",
              "574       soy free  6502.0  0.880672\n",
              "240        gourmet  5683.0  0.769741\n",
              "624  tree nut free  5616.0  0.760666"
            ]
          },
          "metadata": {
            "tags": []
          },
          "execution_count": 13
        }
      ]
    },
    {
      "cell_type": "code",
      "metadata": {
        "id": "B2R-9vEvYrFH",
        "colab_type": "code",
        "colab": {
          "base_uri": "https://localhost:8080/",
          "height": 542
        },
        "outputId": "397bbf82-e7dc-40ff-c155-95ccaac7756d"
      },
      "source": [
        "import plotly.express as px\n",
        "#df = px.data.tips()\n",
        "fig = px.bar(feature_counts, x=\"pct\", y=\"variable\", orientation='h')\n",
        "fig.show()"
      ],
      "execution_count": 14,
      "outputs": [
        {
          "output_type": "display_data",
          "data": {
            "text/html": [
              "<html>\n",
              "<head><meta charset=\"utf-8\" /></head>\n",
              "<body>\n",
              "    <div>\n",
              "            <script src=\"https://cdnjs.cloudflare.com/ajax/libs/mathjax/2.7.5/MathJax.js?config=TeX-AMS-MML_SVG\"></script><script type=\"text/javascript\">if (window.MathJax) {MathJax.Hub.Config({SVG: {font: \"STIX-Web\"}});}</script>\n",
              "                <script type=\"text/javascript\">window.PlotlyConfig = {MathJaxConfig: 'local'};</script>\n",
              "        <script src=\"https://cdn.plot.ly/plotly-latest.min.js\"></script>    \n",
              "            <div id=\"d0558ee5-ea37-4698-a52b-65971ecd0be1\" class=\"plotly-graph-div\" style=\"height:525px; width:100%;\"></div>\n",
              "            <script type=\"text/javascript\">\n",
              "                \n",
              "                    window.PLOTLYENV=window.PLOTLYENV || {};\n",
              "                    \n",
              "                if (document.getElementById(\"d0558ee5-ea37-4698-a52b-65971ecd0be1\")) {\n",
              "                    Plotly.newPlot(\n",
              "                        'd0558ee5-ea37-4698-a52b-65971ecd0be1',\n",
              "                        [{\"alignmentgroup\": \"True\", \"hoverlabel\": {\"namelength\": 0}, \"hovertemplate\": \"pct=%{x}<br>variable=%{y}\", \"legendgroup\": \"\", \"marker\": {\"color\": \"#636efa\"}, \"name\": \"\", \"offsetgroup\": \"\", \"orientation\": \"h\", \"showlegend\": false, \"textposition\": \"auto\", \"type\": \"bar\", \"x\": [1.0, 0.9103345523499933, 0.8806718136258973, 0.7697412975755114, 0.7606663957740756, 0.7488825680617636, 0.6751997832859271, 0.660436137071651, 0.5703643505350129, 0.5283759989164296, 0.5045374509007179, 0.44020046051740486, 0.3998374644453474, 0.34958688879859134, 0.34701340918325885, 0.3386157388595422, 0.33726127590410404, 0.32750914262494923, 0.26046322633075986, 0.2595151022619531, 0.2570770689421644, 0.2503047541649736, 0.23201950426655832, 0.2287687931735067, 0.22782066910469997, 0.22687254503589327, 0.2159013950968441, 0.19707436001625356, 0.1942299878098334, 0.1894893674657998, 0.18434240823513476, 0.18203982121088988, 0.18054991195990788, 0.17120411756738455, 0.16822429906542055, 0.16592171204117567, 0.15779493430854666, 0.14330218068535824, 0.1420831640254639, 0.14181227143437627, 0.1411350399566572, 0.13815522145469322, 0.12731951781118786, 0.12704862522010024, 0.12637139374238116, 0.12501693078694298, 0.12461059190031153, 0.12379791412704863, 0.12176621969389137, 0.11526479750778816, 0.11418122714343763, 0.11052417716375457, 0.11038873086821076, 0.10795069754842206, 0.10456454015982664, 0.10415820127319518, 0.10402275497765136, 0.10239739943112555, 0.09752133279154815, 0.09643776242719762, 0.09603142354056617, 0.09440606799404036, 0.09359339022077746, 0.09250981985642692, 0.09237437356088311, 0.09074901801435731, 0.09061357171881348, 0.08817553839902478, 0.0874983069213057, 0.0842475958282541, 0.08113233103074631, 0.08072599214411486, 0.07991331437085196, 0.07774617364215089, 0.07747528105106326, 0.07720438845997563, 0.07679804957334417, 0.07530814032236219, 0.07503724773127456, 0.07354733848029256, 0.07327644588920493, 0.06894216443180279, 0.06880671813625898, 0.0682649329540837, 0.06650413111201409, 0.06636868481647026, 0.06636868481647026, 0.06528511445211974, 0.06474332926994447, 0.06460788297440065, 0.06365975890559393, 0.06149261817689286, 0.060950832994717596, 0.06081538669917378, 0.060138155221454694, 0.05878369226601653, 0.05783556819720981, 0.05770012190166599, 0.057564675606122176, 0.056481105241771634, 0.056210212650684, 0.05390762562643912, 0.05282405526208858, 0.051198699715562776, 0.05106325342001896, 0.05079236082893133, 0.05038602194229988, 0.048760666395774074, 0.04848977380468644, 0.048354327509142626, 0.048083434918054994, 0.04740620344033591, 0.04699986455370446, 0.04632263307598537, 0.04605174048489774, 0.045645401598266286, 0.04523906271163484, 0.043478260869565216, 0.043207368278477584, 0.04293647568738995, 0.04266558309630231, 0.042259244209670865, 0.04185290532303942, 0.04158201273195178, 0.04144656643640796, 0.04036299607205743, 0.04036299607205743, 0.04022754977651361, 0.03995665718542598, 0.039821210889882164, 0.039821210889882164, 0.039821210889882164, 0.039550318298794525, 0.03900853311661926, 0.03873764052553163, 0.03860219422998781, 0.03860219422998781, 0.037654070161181094, 0.03751862386563728, 0.03751862386563728, 0.03684139238791819, 0.03643505350128674, 0.03629960720574292, 0.035757822023567656, 0.035757822023567656, 0.035486929432480024, 0.0353514831369362, 0.03426791277258567, 0.03386157388595422, 0.0337261275904104, 0.03345523499932277, 0.03345523499932277, 0.0329134498171475, 0.032371664634972236, 0.032371664634972236, 0.0321007720438846, 0.031829879452796965, 0.03169443315725315, 0.0312880942706217, 0.0312880942706217, 0.030610862792902614, 0.030475416497358798, 0.03033997020181498, 0.030069077610727347, 0.030069077610727347, 0.030069077610727347, 0.02979818501963971, 0.02952729242855208, 0.02952729242855208, 0.02952729242855208, 0.029256399837464444, 0.029256399837464444, 0.028850060950832996, 0.027901936882026277, 0.027901936882026277, 0.027901936882026277, 0.027495597995394826, 0.02695381281321956, 0.02695381281321956, 0.02614113503995666, 0.025463903562237572, 0.025463903562237572, 0.025328457266693756, 0.024922118380062305, 0.02478667208451849, 0.024380333197887037, 0.02424488690234322, 0.023703101720167954, 0.023703101720167954, 0.023567655424624138, 0.023296762833536502, 0.023161316537992686, 0.023161316537992686, 0.02302587024244887, 0.02261953135581742, 0.022484085060273603, 0.022213192469185968, 0.022213192469185968, 0.022213192469185968, 0.021942299878098336, 0.0216714072870107, 0.021535960991466884, 0.021400514695923068, 0.02126506840037925, 0.021129622104835433, 0.02072328321820398, 0.02072328321820398, 0.020587836922660165, 0.02045239062711635, 0.02031694433157253, 0.02031694433157253, 0.019910605444941082, 0.019775159149397262, 0.019639712853853446, 0.01950426655830963, 0.019368820262765814, 0.019368820262765814, 0.019233373967221995, 0.019233373967221995, 0.01909792767167818, 0.01909792767167818, 0.01855614248950291, 0.018420696193959096, 0.018420696193959096, 0.01828524989841528, 0.01828524989841528, 0.017878911011783828, 0.017201679534064745, 0.017201679534064745, 0.017201679534064745, 0.017066233238520925, 0.017066233238520925, 0.016795340647433293, 0.016659894351889477, 0.016659894351889477, 0.016524448056345658, 0.016253555465258026, 0.01611810916971421, 0.01598266287417039, 0.01598266287417039, 0.01598266287417039, 0.015847216578626575, 0.01571177028308276, 0.01516998510090749, 0.01516998510090749, 0.014899092509819856, 0.014899092509819856, 0.01476364621427604, 0.014628199918732222, 0.014492753623188406, 0.014357307327644588, 0.014357307327644588, 0.014221861032100772, 0.014221861032100772, 0.014086414736556955, 0.013950968441013139, 0.013950968441013139, 0.013950968441013139, 0.01381552214546932, 0.01381552214546932, 0.01381552214546932, 0.01381552214546932, 0.013544629554381687, 0.013409183258837871, 0.013138290667750237, 0.013138290667750237, 0.012867398076662604, 0.012867398076662604, 0.012867398076662604, 0.012867398076662604, 0.012731951781118786, 0.01259650548557497, 0.01259650548557497, 0.012325612894487336, 0.012325612894487336, 0.012190166598943519, 0.012054720303399703, 0.012054720303399703, 0.012054720303399703, 0.011919274007855885, 0.011919274007855885, 0.011919274007855885, 0.011919274007855885, 0.011783827712312069, 0.011648381416768251, 0.011648381416768251, 0.011512935121224435, 0.011512935121224435, 0.011377488825680617, 0.011377488825680617, 0.01083570364350535, 0.010700257347961534, 0.010564811052417716, 0.010564811052417716, 0.0104293647568739, 0.0104293647568739, 0.010293918461330083, 0.010293918461330083, 0.010293918461330083, 0.010158472165786265, 0.010158472165786265, 0.010023025870242449, 0.009887579574698631, 0.009752133279154815, 0.009752133279154815, 0.009616686983610997, 0.009481240688067182, 0.009345794392523364, 0.009345794392523364, 0.008804009210348096, 0.008804009210348096, 0.008804009210348096, 0.008804009210348096, 0.008804009210348096, 0.00866856291480428, 0.00866856291480428, 0.00866856291480428, 0.008533116619260463, 0.008533116619260463, 0.008533116619260463, 0.008397670323716647, 0.008397670323716647, 0.008397670323716647, 0.008397670323716647, 0.008262224028172829, 0.008126777732629013, 0.008126777732629013, 0.00785588514154138, 0.0077204388459975615, 0.007584992550453745, 0.007584992550453745, 0.007584992550453745, 0.007314099959366111, 0.007178653663822294, 0.007043207368278477, 0.00690776107273466, 0.0067723147771908436, 0.00650142218610321, 0.00650142218610321, 0.00650142218610321, 0.006230529595015576, 0.006230529595015576, 0.006095083299471759, 0.006095083299471759, 0.006095083299471759, 0.0059596370039279424, 0.0059596370039279424, 0.0059596370039279424, 0.0059596370039279424, 0.005824190708384126, 0.005824190708384126, 0.005824190708384126, 0.005824190708384126, 0.005688744412840309, 0.005688744412840309, 0.005688744412840309, 0.005553298117296492, 0.005553298117296492, 0.005282405526208858, 0.005282405526208858, 0.005282405526208858, 0.005282405526208858, 0.005146959230665041, 0.005146959230665041, 0.005146959230665041, 0.0050115129351212245, 0.0050115129351212245, 0.004876066639577408, 0.004876066639577408, 0.004740620344033591, 0.004740620344033591, 0.004740620344033591, 0.004605174048489774, 0.004605174048489774, 0.004469727752945957, 0.004469727752945957, 0.004469727752945957, 0.004469727752945957, 0.00433428145740214, 0.00433428145740214, 0.004198835161858323, 0.004198835161858323, 0.004198835161858323, 0.0040633888663145065, 0.0040633888663145065, 0.0040633888663145065, 0.00392794257077069, 0.00392794257077069, 0.00392794257077069, 0.00392794257077069, 0.00392794257077069, 0.00392794257077069, 0.0037924962752268723, 0.0037924962752268723, 0.0036570499796830555, 0.0036570499796830555, 0.0036570499796830555, 0.0035216036841392386, 0.0035216036841392386, 0.0035216036841392386, 0.0033861573885954218, 0.0033861573885954218, 0.0033861573885954218, 0.0033861573885954218, 0.003250711093051605, 0.003250711093051605, 0.003250711093051605, 0.003115264797507788, 0.003115264797507788, 0.0029798185019639712, 0.0028443722064201544, 0.0028443722064201544, 0.0028443722064201544, 0.0028443722064201544, 0.0028443722064201544, 0.0028443722064201544, 0.0028443722064201544, 0.0027089259108763375, 0.0027089259108763375, 0.0027089259108763375, 0.0027089259108763375, 0.0027089259108763375, 0.0027089259108763375, 0.0025734796153325207, 0.0025734796153325207, 0.002438033319788704, 0.002438033319788704, 0.002438033319788704, 0.002302587024244887, 0.002302587024244887, 0.002302587024244887, 0.002302587024244887, 0.002302587024244887, 0.00216714072870107, 0.00216714072870107, 0.00216714072870107, 0.00216714072870107, 0.00216714072870107, 0.00216714072870107, 0.00216714072870107, 0.0020316944331572532, 0.0020316944331572532, 0.0020316944331572532, 0.0020316944331572532, 0.0020316944331572532, 0.0018962481376134362, 0.0018962481376134362, 0.0018962481376134362, 0.0018962481376134362, 0.0017608018420696193, 0.0017608018420696193, 0.0017608018420696193, 0.0017608018420696193, 0.0017608018420696193, 0.0017608018420696193, 0.0017608018420696193, 0.0017608018420696193, 0.0017608018420696193, 0.0017608018420696193, 0.0017608018420696193, 0.0017608018420696193, 0.0017608018420696193, 0.0016253555465258025, 0.0016253555465258025, 0.0016253555465258025, 0.0016253555465258025, 0.0016253555465258025, 0.0016253555465258025, 0.0016253555465258025, 0.0016253555465258025, 0.0016253555465258025, 0.0016253555465258025, 0.0014899092509819856, 0.0014899092509819856, 0.0014899092509819856, 0.0014899092509819856, 0.0014899092509819856, 0.0014899092509819856, 0.0013544629554381688, 0.0013544629554381688, 0.0013544629554381688, 0.0013544629554381688, 0.0013544629554381688, 0.0013544629554381688, 0.0013544629554381688, 0.0013544629554381688, 0.0013544629554381688, 0.0013544629554381688, 0.001219016659894352, 0.001219016659894352, 0.001219016659894352, 0.001219016659894352, 0.001219016659894352, 0.001219016659894352, 0.001219016659894352, 0.001219016659894352, 0.001219016659894352, 0.001219016659894352, 0.001083570364350535, 0.001083570364350535, 0.001083570364350535, 0.001083570364350535, 0.001083570364350535, 0.001083570364350535, 0.001083570364350535, 0.0009481240688067181, 0.0009481240688067181, 0.0009481240688067181, 0.0009481240688067181, 0.0009481240688067181, 0.0009481240688067181, 0.0009481240688067181, 0.0009481240688067181, 0.0009481240688067181, 0.0009481240688067181, 0.0009481240688067181, 0.0008126777732629012, 0.0008126777732629012, 0.0008126777732629012, 0.0008126777732629012, 0.0008126777732629012, 0.0008126777732629012, 0.0008126777732629012, 0.0008126777732629012, 0.0008126777732629012, 0.0008126777732629012, 0.0008126777732629012, 0.0008126777732629012, 0.0008126777732629012, 0.0008126777732629012, 0.0008126777732629012, 0.0006772314777190844, 0.0006772314777190844, 0.0006772314777190844, 0.0006772314777190844, 0.0006772314777190844, 0.0006772314777190844, 0.0006772314777190844, 0.0006772314777190844, 0.0006772314777190844, 0.0006772314777190844, 0.0006772314777190844, 0.0006772314777190844, 0.0006772314777190844, 0.0006772314777190844, 0.0006772314777190844, 0.0006772314777190844, 0.0006772314777190844, 0.0006772314777190844, 0.0006772314777190844, 0.0006772314777190844, 0.0006772314777190844, 0.0006772314777190844, 0.0005417851821752675, 0.0005417851821752675, 0.0005417851821752675, 0.0005417851821752675, 0.0005417851821752675, 0.0005417851821752675, 0.0005417851821752675, 0.0005417851821752675, 0.0005417851821752675, 0.0005417851821752675, 0.0005417851821752675, 0.0005417851821752675, 0.0005417851821752675, 0.0005417851821752675, 0.0005417851821752675, 0.0005417851821752675, 0.0004063388866314506, 0.0004063388866314506, 0.0004063388866314506, 0.0004063388866314506, 0.0004063388866314506, 0.0004063388866314506, 0.0004063388866314506, 0.0004063388866314506, 0.0004063388866314506, 0.0004063388866314506, 0.0004063388866314506, 0.0004063388866314506, 0.0004063388866314506, 0.0004063388866314506, 0.0004063388866314506, 0.0004063388866314506, 0.00027089259108763376, 0.00027089259108763376, 0.00027089259108763376, 0.00027089259108763376, 0.00027089259108763376, 0.00027089259108763376, 0.00027089259108763376, 0.00027089259108763376, 0.00027089259108763376, 0.00027089259108763376, 0.00027089259108763376, 0.00027089259108763376, 0.00027089259108763376, 0.00027089259108763376, 0.00027089259108763376, 0.00027089259108763376, 0.00027089259108763376, 0.00027089259108763376, 0.00027089259108763376, 0.00027089259108763376, 0.00027089259108763376, 0.00027089259108763376, 0.00027089259108763376, 0.00027089259108763376, 0.00027089259108763376, 0.00027089259108763376, 0.00013544629554381688, 0.00013544629554381688, 0.00013544629554381688, 0.00013544629554381688, 0.00013544629554381688, 0.00013544629554381688, 0.00013544629554381688, 0.00013544629554381688, 0.00013544629554381688, 0.00013544629554381688, 0.00013544629554381688, 0.00013544629554381688, 0.00013544629554381688, 0.00013544629554381688, 0.00013544629554381688, 0.00013544629554381688, 0.00013544629554381688, 0.00013544629554381688, 0.00013544629554381688, 0.00013544629554381688, 0.00013544629554381688, 0.00013544629554381688, 0.00013544629554381688, 0.00013544629554381688, 0.00013544629554381688, 0.00013544629554381688, 0.00013544629554381688, 0.00013544629554381688, 0.00013544629554381688, 0.00013544629554381688, 0.00013544629554381688, 0.00013544629554381688, 0.00013544629554381688, 0.00013544629554381688, 0.00013544629554381688, 0.00013544629554381688, 0.00013544629554381688, 0.00013544629554381688, 0.00013544629554381688, 0.00013544629554381688, 0.00013544629554381688, 0.00013544629554381688, 0.00013544629554381688, 0.00013544629554381688, 0.00013544629554381688, 0.00013544629554381688, 0.00013544629554381688, 0.00013544629554381688, 0.00013544629554381688, 0.00013544629554381688, 0.00013544629554381688, 0.0, 0.0, 0.0, 0.0, 0.0, 0.0, 0.0, 0.0, 0.0, 0.0, 0.0, 0.0], \"xaxis\": \"x\", \"y\": [\"bon app\\u00e9tit\", \"peanut free\", \"soy free\", \"gourmet\", \"tree nut free\", \"vegetarian\", \"kosher\", \"pescatarian\", \"quick & easy\", \"wheat/gluten-free\", \"bake\", \"summer\", \"dessert\", \"winter\", \"side\", \"fall\", \"dairy free\", \"no sugar added\", \"kidney friendly\", \"sugar conscious\", \"dinner\", \"onion\", \"milk/cream\", \"saut\\u00e9\", \"tomato\", \"vegetable\", \"fruit\", \"vegan\", \"egg\", \"herb\", \"kid-friendly\", \"garlic\", \"spring\", \"healthy\", \"dairy\", \"thanksgiving\", \"salad\", \"cheese\", \"chicken\", \"appetizer\", \"roast\", \"no-cook\", \"soup/stew\", \"lunch\", \"chill\", \"sauce\", \"potato\", \"ginger\", \"lemon\", \"cocktail party\", \"christmas\", \"food processor\", \"grill/barbecue\", \"condiment/spread\", \"drink\", \"pasta\", \"pork\", \"nut\", \"simmer\", \"fish\", \"citrus\", \"leafy green\", \"chocolate\", \"mushroom\", \"backyard bbq\", \"orange\", \"beef\", \"party\", \"brunch\", \"cake\", \"high fiber\", \"paleo\", \"alcoholic\", \"bell pepper\", \"low cal\", \"spice\", \"carrot\", \"vinegar\", \"mixer\", \"apple\", \"breakfast\", \"mustard\", \"parmesan\", \"bacon\", \"pepper\", \"marinate\", \"blender\", \"poultry\", \"mint\", \"almond\", \"cilantro\", \"olive\", \"shellfish\", \"basil\", \"lime\", \"rice\", \"bean\", \"white wine\", \"bread\", \"parsley\", \"hot pepper\", \"shrimp\", \"picnic\", \"broil\", \"grill\", \"fruit juice\", \"cinnamon\", \"walnut\", \"potluck\", \"yogurt\", \"freeze/chill\", \"berry\", \"sour cream\", \"low fat\", \"fry\", \"turkey\", \"boil\", \"house & garden\", \"sausage\", \"cream cheese\", \"honey\", \"mayonnaise\", \"cranberry\", \"fat free\", \"raisin\", \"sandwich\", \"rosemary\", \"lamb\", \"braise\", \"corn\", \"cucumber\", \"jalape\\u00f1o\", \"fennel\", \"shallot\", \"frozen dessert\", \"coconut\", \"pecan\", \"spinach\", \"low carb\", \"seafood\", \"thyme\", \"raspberry\", \"fourth of july\", \"rum\", \"low cholesterol\", \"cocktail\", \"celery\", \"low sodium\", \"super bowl\", \"cabbage\", \"shower\", \"salmon\", \"goat cheese\", \"christmas eve\", \"cookies\", \"soy sauce\", \"cornmeal\", \"liqueur\", \"red wine\", \"dill\", \"strawberry\", \"zucchini\", \"leek\", \"family reunion\", \"low/no sugar\", \"apricot\", \"pear\", \"cheddar\", \"curry\", \"meat\", \"brandy\", \"vanilla\", \"father's day\", \"avocado\", \"chive\", \"cherry\", \"sweet potato/yam\", \"pine nut\", \"arugula\", \"pineapple\", \"tarragon\", \"pan-fry\", \"blue cheese\", \"mango\", \"stir-fry\", \"steak\", \"ham\", \"easter\", \"pea\", \"feta\", \"casserole/gratin\", \"valentine's day\", \"green bean\", \"eggplant\", \"lettuce\", \"clove\", \"steam\", \"chile pepper\", \"dried fruit\", \"gin\", \"radish\", \"non-alcoholic\", \"passover\", \"asparagus\", \"coffee\", \"beet\", \"peach\", \"back to school\", \"spirit\", \"birthday\", \"wine\", \"mozzarella\", \"sage\", \"capers\", \"hazelnut\", \"stew\", \"blueberry\", \"butter\", \"pistachio\", \"ice cream machine\", \"butternut squash\", \"california\", \"horseradish\", \"salad dressing\", \"scallop\", \"cinco de mayo\", \"fig\", \"engagement party\", \"jam or jelly\", \"crab\", \"banana\", \"peanut\", \"sesame\", \"artichoke\", \"root vegetable\", \"ricotta\", \"seed\", \"new year's eve\", \"stuffing/dressing\", \"noodle\", \"mother's day\", \"prosciutto\", \"blackberry\", \"oat\", \"clam\", \"maple syrup\", \"watercress\", \"veal\", \"coriander\", \"chickpea\", \"squash\", \"tortillas\", \"mussel\", \"buffet\", \"phyllo/puff pastry dough\", \"poker/game night\", \"hanukkah\", \"kale\", \"lemon juice\", \"vodka\", \"date\", \"molasses\", \"poach\", \"parsnip\", \"saffron\", \"bourbon\", \"cauliflower\", \"pumpkin\", \"prune\", \"lime juice\", \"harpercollins\", \"endive\", \"tuna\", \"tailgating\", \"port\", \"anise\", \"nutmeg\", \"sherry\", \"currant\", \"edible gift\", \"pork tenderloin\", \"anniversary\", \"wok\", \"grapefruit\", \"plum\", \"pastry\", \"wedding\", \"duck\", \"tea\", \"green onion/scallion\", \"soy\", \"broccoli\", \"pork chop\", \"oregano\", \"lentil\", \"beer\", \"bitters\", \"tree nut\", \"oscars\", \"turnip\", \"cognac/armagnac\", \"tequila\", \"advance prep required\", \"ground beef\", \"champagne\", \"tomatillo\", \"couscous\", \"cumin\", \"lemongrass\", \"chard\", \"rhubarb\", \"condiment\", \"swiss cheese\", \"triple sec\", \"deep-fry\", \"halibut\", \"graduation\", \"lobster\", \"chestnut\", \"new year's day\", \"rosh hashanah/yom kippur\", \"pomegranate\", \"hominy/cornmeal/masa\", \"cookie\", \"bass\", \"beef tenderloin\", \"raw\", \"buttermilk\", \"cashew\", \"tofu\", \"sugar snap pea\", \"fortified wine\", \"candy thermometer\", \"grape\", \"cod\", \"punch\", \"candy\", \"beef rib\", \"watermelon\", \"snapper\", \"tropical fruit\", \"pork rib\", \"mardi gras\", \"whiskey\", \"macadamia nut\", \"legume\", \"brussel sprout\", \"lunar new year\", \"papaya\", \"new york\", \"st. patrick's day\", \"nectarine\", \"melon\", \"lima bean\", \"massachusetts\", \"trout\", \"quick and healthy\", \"florida\", \"bok choy\", \"passion fruit\", \"barley\", \"paprika\", \"broccoli rabe\", \"cantaloupe\", \"sparkling wine\", \"halloween\", \"lamb chop\", \"orange juice\", \"squid\", \"monterey jack\", \"ramadan\", \"escarole\", \"oyster\", \"cardamom\", \"rutabaga\", \"pernod\", \"breadcrumbs\", \"quinoa\", \"amaretto\", \"hot drink\", \"kumquat\", \"marsala\", \"kentucky derby\", \"brine\", \"weelicious\", \"game\", \"oktoberfest\", \"double boiler\", \"pennsylvania\", \"j\\u00edcama\", \"ground lamb\", \"kosher for passover\", \"sesame oil\", \"brisket\", \"cottage cheese\", \"microwave\", \"anchovy\", \"honeydew\", \"quince\", \"caraway\", \"washington\", \"ramekin\", \"mustard greens\", \"tangerine\", \"kirsch\", \"whole wheat\", \"fontina\", \"smoothie\", \"michigan\", \"rack of lamb\", \"snack\", \"texas\", \"los angeles\", \"kiwi\", \"bastille day\", \"new jersey\", \"collard greens\", \"yellow squash\", \"3-ingredient recipes\", \"shavuot\", \"diwali\", \"slow cooker\", \"kahl\\u00faa\", \"guava\", \"bulgur\", \"pie\", \"plantain\", \"cr\\u00e9me de cacao\", \"poppy\", \"self\", \"margarita\", \"wasabi\", \"oregon\", \"tamarind\", \"peanut butter\", \"okra\", \"georgia\", \"colorado\", \"frangelico\", \"north carolina\", \"jerusalem artichoke\", \"calvados\", \"scotch\", \"chartreuse\", \"22-minute meals\", \"ireland\", \"lamb shank\", \"asian pear\", \"missouri\", \"radicchio\", \"kwanzaa\", \"pickles\", \"sake\", \"rye\", \"purim\", \"portland\", \"goose\", \"sukkot\", \"campari\", \"snack week\", \"new mexico\", \"brown rice\", \"ohio\", \"quail\", \"wild rice\", \"france\", \"iced tea\", \"coffee grinder\", \"tapioca\", \"semolina\", \"pasadena\", \"sangria\", \"virginia\", \"dip\", \"chambord\", \"connecticut\", \"low sugar\", \"maryland\", \"minnesota\", \"beef shank\", \"poultry sausage\", \"persimmon\", \"flaming hot summer\", \"swordfish\", \"ice cream\", \"hors d'oeuvre\", \"butterscotch/caramel\", \"parade\", \"drinks\", \"vermouth\", \"brie\", \"seattle\", \"south carolina\", \"santa monica\", \"oatmeal\", \"pizza\", \"pittsburgh\", \"one-pot meal\", \"arizona\", \"chile\", \"canada\", \"illinois\", \"sandwich theory\", \"washington, d.c.\", \"friendsgiving\", \"skewer\", \"grains\", \"pressure cooker\", \"pasta maker\", \"st. louis\", \"gouda\", \"egg nog\", \"bon app\\ufffd\\ufffdtit\", \"organic\", \"30 days of groceries\", \"tart\", \"octopus\", \"san francisco\", \"eau de vie\", \"mandoline\", \"cobbler/crumble\", \"pomegranate juice\", \"lychee\", \"smoker\", \"#cakeweek\", \"tilapia\", \"no meat, no problem\", \"brooklyn\", \"rhode island\", \"labor day\", \"house cocktail\", \"australia\", \"leftovers\", \"yuca\", \"aperitif\", \"apple juice\", \"atlanta\", \"entertaining\", \"mexico\", \"vermont\", \"muffin\", \"maine\", \"marshmallow\", \"meatball\", \"pancake\", \"taco\", \"venison\", \"dallas\", \"rabbit\", \"granola\", \"indiana\", \"poblano\", \"lingonberry\", \"chicago\", \"cook like a diner\", \"martini\", \"spritzer\", \"digestif\", \"grappa\", \"switzerland\", \"italy\", \"wisconsin\", \"biscuit\", \"midori\", \"boston\", \"juicer\", \"lancaster\", \"cambridge\", \"oklahoma\", \"utah\", \"kansas\", \"denver\", \"paris\", \"louisiana\", \"columbus\", \"hamburger\", \"macaroni and cheese\", \"salsa\", \"persian new year\", \"marscarpone\", \"cranberry sauce\", \"souffl\\u00e9/meringue\", \"cookbook critic\", \"bran\", \"lasagna\", \"brownie\", \"miami\", \"hummus\", \"nebraska\", \"meatloaf\", \"hawaii\", \"iced coffee\", \"chili\", \"israel\", \"peru\", \"epi + ushg\", \"japan\", \"stock\", \"alaska\", \"anthony bourdain\", \"kentucky\", \"omelet\", \"cookbooks\", \"dominican republic\", \"custard\", \"cupcake\", \"kansas city\", \"freezer food\", \"buffalo\", \"long beach\", \"sardine\", \"yonkers\", \"quiche\", \"mortar and pestle\", \"aspen\", \"pot pie\", \"idaho\", \"pacific palisades\", \"nancy silverton\", \"beverly hills\", \"windsor\", \"new orleans\", \"orzo\", \"kitchen olympics\", \"potato salad\", \"westwood\", \"west virginia\", \"alabama\", \"fritter\", \"bulgaria\", \"guam\", \"houston\", \"cr\\u00eape\", \"cr\\ufffd\\ufffdme de cacao\", \"cuba\", \"dorie greenspan\", \"spain\", \"sourdough\", \"emeril lagasse\", \"sorbet\", \"england\", \"epi loves the microwave\", \"germany\", \"flat bread\", \"philippines\", \"louisville\", \"london\", \"#wasteless\", \"costa mesa\", \"marinade\", \"suzanne goin\", \"tennessee\", \"burrito\", \"minneapolis\", \"caviar\", \"hollywood\", \"tested & improved\", \"healdsburg\", \"providence\", \"mezcal\", \"rub\", \"haiti\", \"grand marnier\", \"ros\\u00e9\", \"egypt\", \"iowa\", \"jamaica\", \"waffle\", \"new hampshire\", \"camping\", \"frankenrecipe\", \"mississippi\", \"las vegas\", \"frittata\"], \"yaxis\": \"y\"}],\n",
              "                        {\"barmode\": \"relative\", \"legend\": {\"tracegroupgap\": 0}, \"margin\": {\"t\": 60}, \"template\": {\"data\": {\"bar\": [{\"error_x\": {\"color\": \"#2a3f5f\"}, \"error_y\": {\"color\": \"#2a3f5f\"}, \"marker\": {\"line\": {\"color\": \"#E5ECF6\", \"width\": 0.5}}, \"type\": \"bar\"}], \"barpolar\": [{\"marker\": {\"line\": {\"color\": \"#E5ECF6\", \"width\": 0.5}}, \"type\": \"barpolar\"}], \"carpet\": [{\"aaxis\": {\"endlinecolor\": \"#2a3f5f\", \"gridcolor\": \"white\", \"linecolor\": \"white\", \"minorgridcolor\": \"white\", \"startlinecolor\": \"#2a3f5f\"}, \"baxis\": {\"endlinecolor\": \"#2a3f5f\", \"gridcolor\": \"white\", \"linecolor\": \"white\", \"minorgridcolor\": \"white\", \"startlinecolor\": \"#2a3f5f\"}, \"type\": \"carpet\"}], \"choropleth\": [{\"colorbar\": {\"outlinewidth\": 0, \"ticks\": \"\"}, \"type\": \"choropleth\"}], \"contour\": [{\"colorbar\": {\"outlinewidth\": 0, \"ticks\": \"\"}, \"colorscale\": [[0.0, \"#0d0887\"], [0.1111111111111111, \"#46039f\"], [0.2222222222222222, \"#7201a8\"], [0.3333333333333333, \"#9c179e\"], [0.4444444444444444, \"#bd3786\"], [0.5555555555555556, \"#d8576b\"], [0.6666666666666666, \"#ed7953\"], [0.7777777777777778, \"#fb9f3a\"], [0.8888888888888888, \"#fdca26\"], [1.0, \"#f0f921\"]], \"type\": \"contour\"}], \"contourcarpet\": [{\"colorbar\": {\"outlinewidth\": 0, \"ticks\": \"\"}, \"type\": \"contourcarpet\"}], \"heatmap\": [{\"colorbar\": {\"outlinewidth\": 0, \"ticks\": \"\"}, \"colorscale\": [[0.0, \"#0d0887\"], [0.1111111111111111, \"#46039f\"], [0.2222222222222222, \"#7201a8\"], [0.3333333333333333, \"#9c179e\"], [0.4444444444444444, \"#bd3786\"], [0.5555555555555556, \"#d8576b\"], [0.6666666666666666, \"#ed7953\"], [0.7777777777777778, \"#fb9f3a\"], [0.8888888888888888, \"#fdca26\"], [1.0, \"#f0f921\"]], \"type\": \"heatmap\"}], \"heatmapgl\": [{\"colorbar\": {\"outlinewidth\": 0, \"ticks\": \"\"}, \"colorscale\": [[0.0, \"#0d0887\"], [0.1111111111111111, \"#46039f\"], [0.2222222222222222, \"#7201a8\"], [0.3333333333333333, \"#9c179e\"], [0.4444444444444444, \"#bd3786\"], [0.5555555555555556, \"#d8576b\"], [0.6666666666666666, \"#ed7953\"], [0.7777777777777778, \"#fb9f3a\"], [0.8888888888888888, \"#fdca26\"], [1.0, \"#f0f921\"]], \"type\": \"heatmapgl\"}], \"histogram\": [{\"marker\": {\"colorbar\": {\"outlinewidth\": 0, \"ticks\": \"\"}}, \"type\": \"histogram\"}], \"histogram2d\": [{\"colorbar\": {\"outlinewidth\": 0, \"ticks\": \"\"}, \"colorscale\": [[0.0, \"#0d0887\"], [0.1111111111111111, \"#46039f\"], [0.2222222222222222, \"#7201a8\"], [0.3333333333333333, \"#9c179e\"], [0.4444444444444444, \"#bd3786\"], [0.5555555555555556, \"#d8576b\"], [0.6666666666666666, \"#ed7953\"], [0.7777777777777778, \"#fb9f3a\"], [0.8888888888888888, \"#fdca26\"], [1.0, \"#f0f921\"]], \"type\": \"histogram2d\"}], \"histogram2dcontour\": [{\"colorbar\": {\"outlinewidth\": 0, \"ticks\": \"\"}, \"colorscale\": [[0.0, \"#0d0887\"], [0.1111111111111111, \"#46039f\"], [0.2222222222222222, \"#7201a8\"], [0.3333333333333333, \"#9c179e\"], [0.4444444444444444, \"#bd3786\"], [0.5555555555555556, \"#d8576b\"], [0.6666666666666666, \"#ed7953\"], [0.7777777777777778, \"#fb9f3a\"], [0.8888888888888888, \"#fdca26\"], [1.0, \"#f0f921\"]], \"type\": \"histogram2dcontour\"}], \"mesh3d\": [{\"colorbar\": {\"outlinewidth\": 0, \"ticks\": \"\"}, \"type\": \"mesh3d\"}], \"parcoords\": [{\"line\": {\"colorbar\": {\"outlinewidth\": 0, \"ticks\": \"\"}}, \"type\": \"parcoords\"}], \"pie\": [{\"automargin\": true, \"type\": \"pie\"}], \"scatter\": [{\"marker\": {\"colorbar\": {\"outlinewidth\": 0, \"ticks\": \"\"}}, \"type\": \"scatter\"}], \"scatter3d\": [{\"line\": {\"colorbar\": {\"outlinewidth\": 0, \"ticks\": \"\"}}, \"marker\": {\"colorbar\": {\"outlinewidth\": 0, \"ticks\": \"\"}}, \"type\": \"scatter3d\"}], \"scattercarpet\": [{\"marker\": {\"colorbar\": {\"outlinewidth\": 0, \"ticks\": \"\"}}, \"type\": \"scattercarpet\"}], \"scattergeo\": [{\"marker\": {\"colorbar\": {\"outlinewidth\": 0, \"ticks\": \"\"}}, \"type\": \"scattergeo\"}], \"scattergl\": [{\"marker\": {\"colorbar\": {\"outlinewidth\": 0, \"ticks\": \"\"}}, \"type\": \"scattergl\"}], \"scattermapbox\": [{\"marker\": {\"colorbar\": {\"outlinewidth\": 0, \"ticks\": \"\"}}, \"type\": \"scattermapbox\"}], \"scatterpolar\": [{\"marker\": {\"colorbar\": {\"outlinewidth\": 0, \"ticks\": \"\"}}, \"type\": \"scatterpolar\"}], \"scatterpolargl\": [{\"marker\": {\"colorbar\": {\"outlinewidth\": 0, \"ticks\": \"\"}}, \"type\": \"scatterpolargl\"}], \"scatterternary\": [{\"marker\": {\"colorbar\": {\"outlinewidth\": 0, \"ticks\": \"\"}}, \"type\": \"scatterternary\"}], \"surface\": [{\"colorbar\": {\"outlinewidth\": 0, \"ticks\": \"\"}, \"colorscale\": [[0.0, \"#0d0887\"], [0.1111111111111111, \"#46039f\"], [0.2222222222222222, \"#7201a8\"], [0.3333333333333333, \"#9c179e\"], [0.4444444444444444, \"#bd3786\"], [0.5555555555555556, \"#d8576b\"], [0.6666666666666666, \"#ed7953\"], [0.7777777777777778, \"#fb9f3a\"], [0.8888888888888888, \"#fdca26\"], [1.0, \"#f0f921\"]], \"type\": \"surface\"}], \"table\": [{\"cells\": {\"fill\": {\"color\": \"#EBF0F8\"}, \"line\": {\"color\": \"white\"}}, \"header\": {\"fill\": {\"color\": \"#C8D4E3\"}, \"line\": {\"color\": \"white\"}}, \"type\": \"table\"}]}, \"layout\": {\"annotationdefaults\": {\"arrowcolor\": \"#2a3f5f\", \"arrowhead\": 0, \"arrowwidth\": 1}, \"coloraxis\": {\"colorbar\": {\"outlinewidth\": 0, \"ticks\": \"\"}}, \"colorscale\": {\"diverging\": [[0, \"#8e0152\"], [0.1, \"#c51b7d\"], [0.2, \"#de77ae\"], [0.3, \"#f1b6da\"], [0.4, \"#fde0ef\"], [0.5, \"#f7f7f7\"], [0.6, \"#e6f5d0\"], [0.7, \"#b8e186\"], [0.8, \"#7fbc41\"], [0.9, \"#4d9221\"], [1, \"#276419\"]], \"sequential\": [[0.0, \"#0d0887\"], [0.1111111111111111, \"#46039f\"], [0.2222222222222222, \"#7201a8\"], [0.3333333333333333, \"#9c179e\"], [0.4444444444444444, \"#bd3786\"], [0.5555555555555556, \"#d8576b\"], [0.6666666666666666, \"#ed7953\"], [0.7777777777777778, \"#fb9f3a\"], [0.8888888888888888, \"#fdca26\"], [1.0, \"#f0f921\"]], \"sequentialminus\": [[0.0, \"#0d0887\"], [0.1111111111111111, \"#46039f\"], [0.2222222222222222, \"#7201a8\"], [0.3333333333333333, \"#9c179e\"], [0.4444444444444444, \"#bd3786\"], [0.5555555555555556, \"#d8576b\"], [0.6666666666666666, \"#ed7953\"], [0.7777777777777778, \"#fb9f3a\"], [0.8888888888888888, \"#fdca26\"], [1.0, \"#f0f921\"]]}, \"colorway\": [\"#636efa\", \"#EF553B\", \"#00cc96\", \"#ab63fa\", \"#FFA15A\", \"#19d3f3\", \"#FF6692\", \"#B6E880\", \"#FF97FF\", \"#FECB52\"], \"font\": {\"color\": \"#2a3f5f\"}, \"geo\": {\"bgcolor\": \"white\", \"lakecolor\": \"white\", \"landcolor\": \"#E5ECF6\", \"showlakes\": true, \"showland\": true, \"subunitcolor\": \"white\"}, \"hoverlabel\": {\"align\": \"left\"}, \"hovermode\": \"closest\", \"mapbox\": {\"style\": \"light\"}, \"paper_bgcolor\": \"white\", \"plot_bgcolor\": \"#E5ECF6\", \"polar\": {\"angularaxis\": {\"gridcolor\": \"white\", \"linecolor\": \"white\", \"ticks\": \"\"}, \"bgcolor\": \"#E5ECF6\", \"radialaxis\": {\"gridcolor\": \"white\", \"linecolor\": \"white\", \"ticks\": \"\"}}, \"scene\": {\"xaxis\": {\"backgroundcolor\": \"#E5ECF6\", \"gridcolor\": \"white\", \"gridwidth\": 2, \"linecolor\": \"white\", \"showbackground\": true, \"ticks\": \"\", \"zerolinecolor\": \"white\"}, \"yaxis\": {\"backgroundcolor\": \"#E5ECF6\", \"gridcolor\": \"white\", \"gridwidth\": 2, \"linecolor\": \"white\", \"showbackground\": true, \"ticks\": \"\", \"zerolinecolor\": \"white\"}, \"zaxis\": {\"backgroundcolor\": \"#E5ECF6\", \"gridcolor\": \"white\", \"gridwidth\": 2, \"linecolor\": \"white\", \"showbackground\": true, \"ticks\": \"\", \"zerolinecolor\": \"white\"}}, \"shapedefaults\": {\"line\": {\"color\": \"#2a3f5f\"}}, \"ternary\": {\"aaxis\": {\"gridcolor\": \"white\", \"linecolor\": \"white\", \"ticks\": \"\"}, \"baxis\": {\"gridcolor\": \"white\", \"linecolor\": \"white\", \"ticks\": \"\"}, \"bgcolor\": \"#E5ECF6\", \"caxis\": {\"gridcolor\": \"white\", \"linecolor\": \"white\", \"ticks\": \"\"}}, \"title\": {\"x\": 0.05}, \"xaxis\": {\"automargin\": true, \"gridcolor\": \"white\", \"linecolor\": \"white\", \"ticks\": \"\", \"title\": {\"standoff\": 15}, \"zerolinecolor\": \"white\", \"zerolinewidth\": 2}, \"yaxis\": {\"automargin\": true, \"gridcolor\": \"white\", \"linecolor\": \"white\", \"ticks\": \"\", \"title\": {\"standoff\": 15}, \"zerolinecolor\": \"white\", \"zerolinewidth\": 2}}}, \"xaxis\": {\"anchor\": \"y\", \"domain\": [0.0, 1.0], \"title\": {\"text\": \"pct\"}}, \"yaxis\": {\"anchor\": \"x\", \"domain\": [0.0, 1.0], \"title\": {\"text\": \"variable\"}}},\n",
              "                        {\"responsive\": true}\n",
              "                    ).then(function(){\n",
              "                            \n",
              "var gd = document.getElementById('d0558ee5-ea37-4698-a52b-65971ecd0be1');\n",
              "var x = new MutationObserver(function (mutations, observer) {{\n",
              "        var display = window.getComputedStyle(gd).display;\n",
              "        if (!display || display === 'none') {{\n",
              "            console.log([gd, 'removed!']);\n",
              "            Plotly.purge(gd);\n",
              "            observer.disconnect();\n",
              "        }}\n",
              "}});\n",
              "\n",
              "// Listen for the removal of the full notebook cells\n",
              "var notebookContainer = gd.closest('#notebook-container');\n",
              "if (notebookContainer) {{\n",
              "    x.observe(notebookContainer, {childList: true});\n",
              "}}\n",
              "\n",
              "// Listen for the clearing of the current output cell\n",
              "var outputEl = gd.closest('.output');\n",
              "if (outputEl) {{\n",
              "    x.observe(outputEl, {childList: true});\n",
              "}}\n",
              "\n",
              "                        })\n",
              "                };\n",
              "                \n",
              "            </script>\n",
              "        </div>\n",
              "</body>\n",
              "</html>"
            ]
          },
          "metadata": {
            "tags": []
          }
        }
      ]
    },
    {
      "cell_type": "markdown",
      "metadata": {
        "id": "80TEwm_oVm5y",
        "colab_type": "text"
      },
      "source": [
        "Select features in more than 1% of rows."
      ]
    },
    {
      "cell_type": "code",
      "metadata": {
        "id": "xEoHBoxT2Psh",
        "colab_type": "code",
        "colab": {}
      },
      "source": [
        "new_cols = list(feature_counts[feature_counts['pct']> 0.1].variable.values)"
      ],
      "execution_count": 20,
      "outputs": []
    },
    {
      "cell_type": "code",
      "metadata": {
        "id": "QplLu1S-qEr-",
        "colab_type": "code",
        "colab": {
          "base_uri": "https://localhost:8080/",
          "height": 34
        },
        "outputId": "4eb9e20c-a2a8-4125-86ed-0306067b632c"
      },
      "source": [
        "len(new_cols)"
      ],
      "execution_count": 21,
      "outputs": [
        {
          "output_type": "execute_result",
          "data": {
            "text/plain": [
              "58"
            ]
          },
          "metadata": {
            "tags": []
          },
          "execution_count": 21
        }
      ]
    },
    {
      "cell_type": "markdown",
      "metadata": {
        "id": "MlXtrhfYRPK8",
        "colab_type": "text"
      },
      "source": [
        "Add dietary info"
      ]
    },
    {
      "cell_type": "code",
      "metadata": {
        "id": "wIHMGpngTJDh",
        "colab_type": "code",
        "colab": {}
      },
      "source": [
        "diet = ['calories', 'protein', 'fat', 'sodium']\n",
        "new_cols = new_cols + diet"
      ],
      "execution_count": 22,
      "outputs": []
    },
    {
      "cell_type": "code",
      "metadata": {
        "id": "bl72cxqdaeHY",
        "colab_type": "code",
        "colab": {
          "base_uri": "https://localhost:8080/",
          "height": 34
        },
        "outputId": "b971fb4e-382d-4360-faf1-5ba075a062cb"
      },
      "source": [
        "len(new_cols)"
      ],
      "execution_count": 29,
      "outputs": [
        {
          "output_type": "execute_result",
          "data": {
            "text/plain": [
              "62"
            ]
          },
          "metadata": {
            "tags": []
          },
          "execution_count": 29
        }
      ]
    },
    {
      "cell_type": "markdown",
      "metadata": {
        "id": "CKCiDT8vNO06",
        "colab_type": "text"
      },
      "source": [
        "Run the model with new features."
      ]
    },
    {
      "cell_type": "code",
      "metadata": {
        "id": "x03sOVpCNSAB",
        "colab_type": "code",
        "colab": {
          "base_uri": "https://localhost:8080/",
          "height": 34
        },
        "outputId": "06b15f63-70bf-4333-a754-c31372f41f45"
      },
      "source": [
        "X = raw_data.drop(['rating', 'title'], 1).sample(frac=0.3, replace=True, random_state=1)\n",
        "X_new = X[new_cols]\n",
        "Y = raw_data.rating.sample(frac=0.3, replace=True, random_state=1)\n",
        "cross_val_score(svr, X_new, Y, cv=5)"
      ],
      "execution_count": 23,
      "outputs": [
        {
          "output_type": "execute_result",
          "data": {
            "text/plain": [
              "array([-0.13491864, -0.16798304, -0.15465153, -0.16913067, -0.17592541])"
            ]
          },
          "metadata": {
            "tags": []
          },
          "execution_count": 23
        }
      ]
    },
    {
      "cell_type": "markdown",
      "metadata": {
        "id": "C-UwwapbWTDX",
        "colab_type": "text"
      },
      "source": [
        "Ooh, still not great, let's use more data since we have fewer features."
      ]
    },
    {
      "cell_type": "code",
      "metadata": {
        "id": "lzYXCyUZWZde",
        "colab_type": "code",
        "colab": {
          "base_uri": "https://localhost:8080/",
          "height": 34
        },
        "outputId": "f1dc6128-1f62-40b1-bbd3-66210cccfb7b"
      },
      "source": [
        "X = raw_data.drop(['rating', 'title'], 1).sample(frac=0.9, replace=True, random_state=1)\n",
        "X_new = X[new_cols]\n",
        "Y = raw_data.rating.sample(frac=0.9, replace=True, random_state=1)\n",
        "cross_val_score(svr, X_new, Y, cv=5)"
      ],
      "execution_count": 24,
      "outputs": [
        {
          "output_type": "execute_result",
          "data": {
            "text/plain": [
              "array([-0.15229987, -0.16817587, -0.14773998, -0.15178299, -0.15631222])"
            ]
          },
          "metadata": {
            "tags": []
          },
          "execution_count": 24
        }
      ]
    },
    {
      "cell_type": "markdown",
      "metadata": {
        "id": "d6CUory7XEEd",
        "colab_type": "text"
      },
      "source": [
        "Yikes! Still very poor, lets try a classification approach."
      ]
    },
    {
      "cell_type": "markdown",
      "metadata": {
        "id": "s4Wni-gfOdNh",
        "colab_type": "text"
      },
      "source": [
        "Convert regression to classification with ratings greater than or equal to three in one class and less than three in another class."
      ]
    },
    {
      "cell_type": "code",
      "metadata": {
        "id": "HuPo8fR5Nro-",
        "colab_type": "code",
        "colab": {}
      },
      "source": [
        "raw_data['class'] = np.where( raw_data['rating'] >= 3, 1, 0)"
      ],
      "execution_count": 25,
      "outputs": []
    },
    {
      "cell_type": "code",
      "metadata": {
        "id": "k3xb3hNIPjhp",
        "colab_type": "code",
        "colab": {
          "base_uri": "https://localhost:8080/",
          "height": 34
        },
        "outputId": "8f78afd8-9af3-4654-f95a-5d44376e7517"
      },
      "source": [
        "from sklearn.svm import SVC\n",
        "svc = SVC()\n",
        "X = raw_data.drop(['rating', 'title','class'], 1).sample(frac=0.3, replace=True, random_state=1)\n",
        "Y = raw_data['class'].sample(frac=0.3, replace=True, random_state=1)\n",
        "cross_val_score(svc, X, Y, cv=5)"
      ],
      "execution_count": 26,
      "outputs": [
        {
          "output_type": "execute_result",
          "data": {
            "text/plain": [
              "array([0.875     , 0.875     , 0.875     , 0.875     , 0.87592008])"
            ]
          },
          "metadata": {
            "tags": []
          },
          "execution_count": 26
        }
      ]
    },
    {
      "cell_type": "markdown",
      "metadata": {
        "id": "0wuQ2G28Xozt",
        "colab_type": "text"
      },
      "source": [
        "Wow, that made a huge difference in our model performance. Let's try it with more data and fewer features."
      ]
    },
    {
      "cell_type": "code",
      "metadata": {
        "id": "enA3_TKiPtMk",
        "colab_type": "code",
        "colab": {
          "base_uri": "https://localhost:8080/",
          "height": 34
        },
        "outputId": "e42fc20e-bfea-48e4-cae9-68ed08957a43"
      },
      "source": [
        "X = raw_data.drop(['rating', 'title','class'], 1).sample(frac=0.9, replace=True, random_state=1)\n",
        "X_new = X[new_cols]\n",
        "Y = raw_data['class'].sample(frac=0.9, replace=True, random_state=1)\n",
        "cross_val_score(svc, X_new, Y, cv=5)"
      ],
      "execution_count": 28,
      "outputs": [
        {
          "output_type": "execute_result",
          "data": {
            "text/plain": [
              "array([0.8820028 , 0.8820028 , 0.8820028 , 0.88231173, 0.88196147])"
            ]
          },
          "metadata": {
            "tags": []
          },
          "execution_count": 28
        }
      ]
    },
    {
      "cell_type": "code",
      "metadata": {
        "id": "X-Q4IBbXX_BW",
        "colab_type": "code",
        "colab": {}
      },
      "source": [
        ""
      ],
      "execution_count": null,
      "outputs": []
    }
  ]
}