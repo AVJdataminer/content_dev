{
 "cells": [
  {
   "cell_type": "code",
   "execution_count": 0,
   "metadata": {
    "colab": {},
    "colab_type": "code",
    "id": "CucDRI3maJBA"
   },
   "outputs": [],
   "source": [
    "# all imports in one place for convenience\n",
    "import matplotlib.pyplot as plt\n",
    "from sklearn.datasets import fetch_20newsgroups_vectorized\n",
    "import numpy as np\n",
    "import pandas as pd\n",
    "import seaborn as sns\n",
    "from sklearn.linear_model import LogisticRegression\n",
    "from sklearn.model_selection import train_test_split, cross_val_score\n",
    "from sklearn.dummy import DummyClassifier\n",
    "from sklearn.metrics import confusion_matrix\n",
    "from sklearn.utils.multiclass import unique_labels\n",
    "from sklearn.metrics import accuracy_score, precision_score, recall_score, f1_score, fbeta_score, classification_report\n",
    "from sklearn.metrics import roc_curve, precision_recall_curve, roc_auc_score\n",
    "%matplotlib inline\n"
   ]
  },
  {
   "cell_type": "markdown",
   "metadata": {
    "colab_type": "text",
    "id": "Lmo4B_L4bKvN"
   },
   "source": [
    "## 20 Newsgroups Dataset\n",
    "For this example we will use the 20 newsgroups dataset which can be loaded using scikit-learn's dataset library. The 20 newsgroups dataset comprises around 18000 newsgroups posts on 20 topics."
   ]
  },
  {
   "cell_type": "code",
   "execution_count": 0,
   "metadata": {
    "colab": {
     "base_uri": "https://localhost:8080/",
     "height": 51
    },
    "colab_type": "code",
    "id": "wHxgkVxYaffN",
    "outputId": "631d3cfd-34a8-49f6-dcfe-864cf4d2c221"
   },
   "outputs": [
    {
     "name": "stderr",
     "output_type": "stream",
     "text": [
      "Downloading 20news dataset. This may take a few minutes.\n",
      "Downloading dataset from https://ndownloader.figshare.com/files/5975967 (14 MB)\n"
     ]
    }
   ],
   "source": [
    "dataset = fetch_20newsgroups_vectorized()\n",
    "X, y = dataset.data, dataset.target"
   ]
  },
  {
   "cell_type": "markdown",
   "metadata": {
    "colab_type": "text",
    "id": "0ik7deMzc4b5"
   },
   "source": [
    "Next, we can count the number of instances for each class."
   ]
  },
  {
   "cell_type": "code",
   "execution_count": 0,
   "metadata": {
    "colab": {
     "base_uri": "https://localhost:8080/",
     "height": 357
    },
    "colab_type": "code",
    "id": "MwKasyg3avtm",
    "outputId": "36a173e6-0a44-45e7-f82f-6d52e4e5c7a1"
   },
   "outputs": [
    {
     "name": "stdout",
     "output_type": "stream",
     "text": [
      "alt.atheism 480\n",
      "comp.graphics 584\n",
      "comp.os.ms-windows.misc 591\n",
      "comp.sys.ibm.pc.hardware 590\n",
      "comp.sys.mac.hardware 578\n",
      "comp.windows.x 593\n",
      "misc.forsale 585\n",
      "rec.autos 594\n",
      "rec.motorcycles 598\n",
      "rec.sport.baseball 597\n",
      "rec.sport.hockey 600\n",
      "sci.crypt 595\n",
      "sci.electronics 591\n",
      "sci.med 594\n",
      "sci.space 593\n",
      "soc.religion.christian 599\n",
      "talk.politics.guns 546\n",
      "talk.politics.mideast 564\n",
      "talk.politics.misc 465\n",
      "talk.religion.misc 377\n"
     ]
    }
   ],
   "source": [
    "for class_name, class_count  in zip(dataset.target_names, np.bincount(dataset.target)):\n",
    "  print(class_name, class_count)"
   ]
  },
  {
   "cell_type": "markdown",
   "metadata": {
    "colab_type": "text",
    "id": "1wm4CefddPJj"
   },
   "source": [
    "We see that this is a well-balanced dataset. That is, each class is fairly evenly represented. Unfortunately, we do not always find such evenly distributed data in real life. So to look at the impact of an unbalanced dataset, let us reduce this dataset to just two classes: *sci.space* and everything else. First, make a copy of the target data, then replace all instances of classes that are not *sci.space* with 0, and all instances of *sci.space* with 1.\n",
    "\n",
    "To see the effect of this change, look at the counts for each class again:"
   ]
  },
  {
   "cell_type": "code",
   "execution_count": 0,
   "metadata": {
    "colab": {
     "base_uri": "https://localhost:8080/",
     "height": 34
    },
    "colab_type": "code",
    "id": "q2H3FdQTgTTC",
    "outputId": "2082df9d-5d86-4cc7-ce23-4674307ee71b"
   },
   "outputs": [
    {
     "data": {
      "text/plain": [
       "array([10721,   593])"
      ]
     },
     "execution_count": 3,
     "metadata": {
      "tags": []
     },
     "output_type": "execute_result"
    }
   ],
   "source": [
    "y_2 = y.copy()\n",
    "y_2[y_2 != 14] = 0\n",
    "y_2[y_2 == 14] = 1\n",
    "\n",
    "np.bincount(y_2)"
   ]
  },
  {
   "cell_type": "markdown",
   "metadata": {
    "colab_type": "text",
    "id": "JdjoWKjTiPR_"
   },
   "source": [
    "Now we have a dataset that is **class imbalanced**: that is, in the negative class representing posts that are **not** about space, we have 10,721, instances and in the positive class, representing posts about space we only have 593 instances. Now we can train a classifier to predict if a post is about space or not. Let us use the logistic regression classifier."
   ]
  },
  {
   "cell_type": "code",
   "execution_count": 0,
   "metadata": {
    "colab": {
     "base_uri": "https://localhost:8080/",
     "height": 34
    },
    "colab_type": "code",
    "id": "lK7dTfctjG-p",
    "outputId": "f481f2f6-9b33-413d-f267-8daa9ff5386c"
   },
   "outputs": [
    {
     "data": {
      "text/plain": [
       "0.9657122658183104"
      ]
     },
     "execution_count": 4,
     "metadata": {
      "tags": []
     },
     "output_type": "execute_result"
    }
   ],
   "source": [
    "X_train, X_test, y_train, y_test = train_test_split(X, y_2)\n",
    "\n",
    "lr = LogisticRegression(solver='lbfgs')\n",
    "lr.fit(X_train, y_train)\n",
    "lr.score(X_test, y_test)"
   ]
  },
  {
   "cell_type": "markdown",
   "metadata": {
    "colab_type": "text",
    "id": "ppiSOaAuj1Cp"
   },
   "source": [
    "Not bad! Without any tuning we got an accuracy of 0.966. An accuracy of 96.6% is quite good, but before we celebrate our data science skills, let's examine what this means in the context of an imbalanced dataset.\n",
    "\n",
    "Suppose we wrote a classifier that did no work at all, did not even look at the features, just simply returned all predictions to be the dominant class. In this case, the dominant class is the negative class. So our dummy classifier will predict the negative class 100% of the time. What is the accuracy of the dummy classifier? Take a moment to think about it.\n",
    "\n",
    "Recall that \n",
    "\n",
    "$$ accuracy = \\frac{ \\# correct predictions}{all predictions}$$\n",
    "\n",
    "Since we have 10,721 negative samples, our dummy classifier will be right 10,721 times and wrong 593 times.\n",
    "\n",
    "$$ accuracy = \\frac{10721}{10721 + 593} = 0.94759$$\n",
    "\n",
    "Still pretty impressive!\n",
    "\n",
    "Scikit-learn actually has a dummy classifier to help illustrate this exact scenario."
   ]
  },
  {
   "cell_type": "code",
   "execution_count": 0,
   "metadata": {
    "colab": {
     "base_uri": "https://localhost:8080/",
     "height": 34
    },
    "colab_type": "code",
    "id": "t8wSuCaMnlqP",
    "outputId": "0cf5e9c0-9ae1-4988-e417-c6492f2bd9b3"
   },
   "outputs": [
    {
     "data": {
      "text/plain": [
       "0.9505125486037469"
      ]
     },
     "execution_count": 21,
     "metadata": {
      "tags": []
     },
     "output_type": "execute_result"
    }
   ],
   "source": [
    "dummy = DummyClassifier(strategy = 'most_frequent')\n",
    "dummy.fit(X_train, y_train)\n",
    "dummy.score(X_test, y_test)\n"
   ]
  },
  {
   "cell_type": "markdown",
   "metadata": {
    "colab_type": "text",
    "id": "DCdip2fyoeV9"
   },
   "source": [
    "Remember, the dummy classifier does not actually use the features to make a prediction, it just looks at which class is dominant and returns that one every time. Here, on our test data we get an accuracy of over 95%, almost as good as our real classifier. Given the closeness of these two results, can we really be confident that our classifier is doing such a great job?\n",
    "\n",
    "This dummy classifier is quite useful for many reasons. It gives a null accuracy baseline to which you can compare your model's performance. This way we know if our classifier is doing better than just a random guess.\n",
    "\n",
    "If your model's accuracy is close to the null accuracy baseline it might mean that:\n",
    "\n",
    " - your features are not good predictors for your problem.\n",
    " - your algorithm's parameters may need tuning.\n",
    " - you have a large class imbalance.\n",
    " \n",
    " "
   ]
  },
  {
   "cell_type": "markdown",
   "metadata": {
    "colab_type": "text",
    "id": "B6mvvQGWutAx"
   },
   "source": [
    "## Confusion Matrix\n",
    "The confusion matrix is simply a table showing every combination of predicted and actual values. It makes it easy to see what type of errors your model is making and allows for the generation of a number of metrics describing the performance of your model. Scikit-learn comes with a function to calculate the confusion matrix given the set of actual values and the set of predictions.\n",
    "\n",
    "## Why do we use a confusion Matrix?\n",
    "\n",
    "While it is important to have good accuracy, it does not tell the whole story.  The confusion matrix gives us a deeper understanding of what is going on with our classification model performance by showing us how things are bucketed. It reveals to us which datapoints are bucketed correctly and which ones were not.  \n",
    "\n",
    "We will explain more about this further in a bit.\n"
   ]
  },
  {
   "cell_type": "code",
   "execution_count": 0,
   "metadata": {
    "colab": {
     "base_uri": "https://localhost:8080/",
     "height": 51
    },
    "colab_type": "code",
    "id": "ycg9sXrMwhCw",
    "outputId": "b9f5e406-d3b2-4685-e2ac-e1434afd4006"
   },
   "outputs": [
    {
     "name": "stdout",
     "output_type": "stream",
     "text": [
      "[[  38   97]\n",
      " [   0 2694]]\n"
     ]
    }
   ],
   "source": [
    "\n",
    "predictions = lr.predict(X_test)\n",
    "\n",
    "confusion = confusion_matrix(y_test, predictions, labels=[1, 0])\n",
    "print(confusion)"
   ]
  },
  {
   "cell_type": "markdown",
   "metadata": {
    "colab_type": "text",
    "id": "6ezOecLMyeZt"
   },
   "source": [
    "We'll interpret this in a minute.\n",
    "\n",
    "While this gives us all the information we need, it is not easy to read. To get a prettier picture of the confusion matrix we could use [this function taken from here](https://www.kaggle.com/grfiv4/plot-a-confusion-matrix), or any one of many similar functions you may find on the web."
   ]
  },
  {
   "cell_type": "code",
   "execution_count": 0,
   "metadata": {
    "colab": {},
    "colab_type": "code",
    "id": "IQWUgUrNycCz"
   },
   "outputs": [],
   "source": [
    "def plot_confusion_matrix(cm,\n",
    "                          target_names,\n",
    "                          title='Confusion matrix',\n",
    "                          cmap=None,\n",
    "                          normalize=True):\n",
    "    \"\"\"\n",
    "    given a sklearn confusion matrix (cm), make a nice plot\n",
    "\n",
    "    Arguments\n",
    "    ---------\n",
    "    cm:           confusion matrix from sklearn.metrics.confusion_matrix\n",
    "\n",
    "    target_names: given classification classes such as [0, 1, 2]\n",
    "                  the class names, for example: ['high', 'medium', 'low']\n",
    "\n",
    "    title:        the text to display at the top of the matrix\n",
    "\n",
    "    cmap:         the gradient of the values displayed from matplotlib.pyplot.cm\n",
    "                  see http://matplotlib.org/examples/color/colormaps_reference.html\n",
    "                  plt.get_cmap('jet') or plt.cm.Blues\n",
    "\n",
    "    normalize:    If False, plot the raw numbers\n",
    "                  If True, plot the proportions\n",
    "\n",
    "    Usage\n",
    "    -----\n",
    "    plot_confusion_matrix(cm           = cm,                  # confusion matrix created by\n",
    "                                                              # sklearn.metrics.confusion_matrix\n",
    "                          normalize    = True,                # show proportions\n",
    "                          target_names = y_labels_vals,       # list of names of the classes\n",
    "                          title        = best_estimator_name) # title of graph\n",
    "\n",
    "    Citiation\n",
    "    ---------\n",
    "    http://scikit-learn.org/stable/auto_examples/model_selection/plot_confusion_matrix.html\n",
    "\n",
    "    \"\"\"\n",
    "    import matplotlib.pyplot as plt\n",
    "    import numpy as np\n",
    "    import itertools\n",
    "\n",
    "    accuracy = np.trace(cm) / float(np.sum(cm))\n",
    "    misclass = 1 - accuracy\n",
    "\n",
    "    if cmap is None:\n",
    "        cmap = plt.get_cmap('Blues')\n",
    "\n",
    "    plt.figure(figsize=(8, 6))\n",
    "    plt.imshow(cm, interpolation='nearest', cmap=cmap)\n",
    "    plt.title(title)\n",
    "    plt.colorbar()\n",
    "\n",
    "    if target_names is not None:\n",
    "        tick_marks = np.arange(len(target_names))\n",
    "        plt.xticks(tick_marks, target_names, rotation=45)\n",
    "        plt.yticks(tick_marks, target_names)\n",
    "\n",
    "    if normalize:\n",
    "        cm = cm.astype('float') / cm.sum(axis=1)[:, np.newaxis]\n",
    "\n",
    "\n",
    "    thresh = cm.max() / 1.5 if normalize else cm.max() / 2\n",
    "    for i, j in itertools.product(range(cm.shape[0]), range(cm.shape[1])):\n",
    "        if normalize:\n",
    "            plt.text(j, i, \"{:0.4f}\".format(cm[i, j]),\n",
    "                     horizontalalignment=\"center\",\n",
    "                     color=\"white\" if cm[i, j] > thresh else \"black\")\n",
    "        else:\n",
    "            plt.text(j, i, \"{:,}\".format(cm[i, j]),\n",
    "                     horizontalalignment=\"center\",\n",
    "                     color=\"white\" if cm[i, j] > thresh else \"black\")\n",
    "\n",
    "\n",
    "    plt.tight_layout()\n",
    "    plt.ylabel('Predicted label')\n",
    "    plt.xlabel('True label\\naccuracy={:0.4f}; misclass={:0.4f}'.format(accuracy, misclass))\n",
    "    plt.show()"
   ]
  },
  {
   "cell_type": "code",
   "execution_count": 0,
   "metadata": {
    "colab": {
     "base_uri": "https://localhost:8080/",
     "height": 467
    },
    "colab_type": "code",
    "id": "h693RNJOywey",
    "outputId": "5be3d3c4-7b23-4c22-e89c-1b7182877f75"
   },
   "outputs": [
    {
     "data": {
      "image/png": "[encoded data removed]",
      "text/plain": [
       "<Figure size 576x432 with 2 Axes>"
      ]
     },
     "metadata": {
      "tags": []
     },
     "output_type": "display_data"
    }
   ],
   "source": [
    "plot_confusion_matrix(cm=confusion, target_names = ['Space', 'Not Space'], title = 'Confusion Matrix',normalize=False)\n"
   ]
  },
  {
   "cell_type": "markdown",
   "metadata": {
    "colab_type": "text",
    "id": "JHae2YkV9PIT"
   },
   "source": [
    "Notice that the numbers appearing in the boxes of the plot above are the same as in the text-based matrix that scikit-learn produced. But this labeled diagram is much better to look at for visually evaluating a confusion matrix.\n",
    "\n",
    "### Interpreting the Matrix\n",
    "\n",
    "But what do the numbers mean? Suppose we trained a binary classification model to recognize images of cats vs no cats.  We build a dataset of images correctly labeled as cats in a photo and other images with no cats. Then we run the model on a labeled test set with several images, some of cats and some with no cats.  Some images are predicted correctly as truly cats in the image, but some of the pictures of cats were falsely bucketed as not a cat.  The reverse can happen where pictures were truely classified as not a cat, but some have slipped through and there was a cat in the photo.  \n",
    "\n",
    "We could then count the number of times that our model correctly predicted cats, correctly predicted no cats, incorrectly predicted cats and incorrectly predicted no cats. These are the numbers that we plug into the confusion matrix.\n",
    "\n",
    "From the image above we can define **True Postives (TP)** as the number of of times the model correctly predicts the positive class (cat) and, **True Negatives (TN)** as the number of times the model correctly predicts the negative class (no cat). \n",
    "\n",
    "**False Positives (FP)** is the number of times the model incorrectly predicts the positive class and **False Negatives (FN)** is the number of times the model incorrectly predicts the negative class. In statistics false positives are called *Type I errors* and false negatives are called *Type II errors*.\n",
    "\n",
    "That means the true positive and true negative are the total number of correct predictions, while the false positives and false negatives are the total number of wrong predictions.\n",
    "\n",
    "There are a number of important metrics that can be calculated from this matrix. First, accuracy:\n",
    "\n",
    "$$Accuracy = \\frac{TP + TN}{TP + TN + FP + FN} = \\frac{43 + 2688}{43 + 2688 + 1 + 97} = 0.965$$\n",
    "\n",
    "#### Precision\n",
    "Precision is a value that tells us what proportion of positive predictions are correct. That is, if the model has a precision of 0.5 then 50% of its positive predictions are correct. Let's calculate the precision of our model.\n",
    "\n",
    "$$precision = \\frac{TP}{TP + FP} = \\frac{43}{43 + 97} = 0.31$$\n",
    "\n",
    "When our model predicts that a post is in the group sci.space it is right only 30% of the time!\n",
    "\n",
    "Without looking at the precision score, we would have missed this by simply accepting the accuracy score at face value.\n",
    "\n",
    "#### Recall\n",
    "Recall is a value that tells us what proportion of positives were correctly predicted. This is a good indication of how many positive instances are being missed.\n",
    "\n",
    "$$recall = \\frac{TP}{TP + FN} = \\frac{43}{43 + 1} = 0.98$$\n",
    "\n",
    "We found 98% of all posts about space.\n",
    "\n",
    "### Trade-offs \n",
    "\n",
    "There is often a trade-off to be made between precision and recall. We may be able to tune our model to improve the precision; that is, make fewer false positive predictions, but it comes at the cost of lower recall. Similarly, if we tune the model to improve the recall then precision may suffer.\n",
    "\n",
    "There is no one right way to tune your model. You have decide on a case-by-case basis. Given the 20 newsgroups dataset and the model that we trained, are we happy with our precision and recall scores? Well, that depends on how we plan to use this model and the business use case. Suppose we used this model as part of a system that automatically determines a label for new posts, so that we can recommend posts to persons with interest in space.\n",
    "\n",
    "Given a precision of 31%, almost 70% of the recommendations are going to be wrong. And with a recall of 98%, only 2% of all posts about space will not be correctly identified. Our users may be annoyed because we recommend too many irrelevant posts (false positives). For this scenario, if we improve the precision and make our recommendations more relevant but maybe miss more space posts, our users would be happier.\n",
    "\n",
    "Now consider a screening test for a particular disease in the population. Suppose we train a model to detect the disease given some symptoms of the patient. If our model predicts positivem, we immediately send the patient for further tests and treatment. If the model predicts false, then we assume the patient is safe. A low precision in this case means that many of the positive cases predicted would turn out to not have the disease. The high recall will mean that most of the positive cases are found. This seems about right. Imagine if the recall were low, many persons with the disease will be incorrectly classified as not having the disease. \n",
    "\n",
    "This is a case where recall is more important than precision, because we don't want to let people who need treatment to slip through the cracks (false negatives). \n"
   ]
  },
  {
   "cell_type": "markdown",
   "metadata": {
    "colab_type": "text",
    "id": "jNa0sboA5MLh"
   },
   "source": [
    "### F-Score\n",
    "When evaluating classifiers, it is convenient to combine the precision and recall into a single value called the F1 score. We use the F-score to see how the two metrics level out when combined.\n",
    "\n",
    "This is done with the following formula:\n",
    "\n",
    "$$F_1 = 2 \\times \\frac{\\text{precision} \\times \\text{recall}}{\\text{precision} + \\text{recall}} = \\frac{2 \\times TP}{2 \\times TP + FN + FP}$$\n",
    "\n",
    "In computing this value the contribution of precision and recall are equal. \n",
    "\n",
    "There is a more general case of the F1 score called the F-beta score. To calculate this score a parameter $\\beta$ is used to adjust the contribution of recall and precision. To favor precision a value of $\\beta < 1$ is used and to favor recall a value of $\\beta > 1$ is used. This way if you are building a model where precision is more important that recall then set a value for $\\beta$ less than 1. The formula is:\n",
    "\n",
    "$$F_\\beta = (1 + \\beta^2) \\times \\frac{\\text{precision} \\times \\text{recall}}{(\\beta^2 \\times \\text{precision}) + \\text{recall}} = \\frac{(1 + \\beta^2) \\times TP}{(1 + \\beta^2) \\times TP + \\beta \\times FN + FP}$$\n",
    "\n",
    "We do not have to perform these calculations by hand. Scikit-learn provides functions in the *sklearn.metrics* library for calculating these values. Each of these functions take the actual target values and the predictions made by the model as input."
   ]
  },
  {
   "cell_type": "code",
   "execution_count": 0,
   "metadata": {
    "colab": {
     "base_uri": "https://localhost:8080/",
     "height": 119
    },
    "colab_type": "code",
    "id": "Hg845J937Jsx",
    "outputId": "7884ce40-b7a4-4962-a942-d76f6e03b4f8"
   },
   "outputs": [
    {
     "name": "stdout",
     "output_type": "stream",
     "text": [
      "Accuracy score: 0.97\n",
      "Precision score: 0.98\n",
      "Recall score: 0.31\n",
      "F1 score: 0.47\n",
      "Fbeta score favoring precision: 0.68\n",
      "FBeta score favoring recall: 0.36\n"
     ]
    }
   ],
   "source": [
    "accuracy = accuracy_score(y_test, predictions)\n",
    "precision = precision_score(y_test, predictions)\n",
    "recall = recall_score(y_test, predictions)\n",
    "f1 = f1_score(y_test, predictions)\n",
    "fbeta_precision = fbeta_score(y_test, predictions, 0.5)\n",
    "fbeta_recall = fbeta_score(y_test, predictions, 2)\n",
    "\n",
    "print('Accuracy score: {:.2f}'.format(accuracy))\n",
    "print('Precision score: {:.2f}'.format(precision))\n",
    "print('Recall score: {:.2f}'.format(recall))\n",
    "print('F1 score: {:.2f}'.format(f1))\n",
    "print('Fbeta score favoring precision: {:.2f}'.format(fbeta_precision))\n",
    "print('FBeta score favoring recall: {:.2f}'.format(fbeta_recall))"
   ]
  },
  {
   "cell_type": "markdown",
   "metadata": {
    "colab_type": "text",
    "id": "XEeycLyRWTe_"
   },
   "source": [
    "Notice that the $F_\\beta$ score with the $\\beta < 1$ scored higher than the $F_\\beta$ with $\\beta > 1$. This is because we have a higher precision score than recall score. \n",
    "\n",
    "The *classification_report* function is also useful giving a summary of these metrics with a single call."
   ]
  },
  {
   "cell_type": "code",
   "execution_count": 0,
   "metadata": {
    "colab": {
     "base_uri": "https://localhost:8080/",
     "height": 170
    },
    "colab_type": "code",
    "id": "pJkY6GDTXmhu",
    "outputId": "5bed0b39-8ed0-43f3-e376-680fb52beca1"
   },
   "outputs": [
    {
     "name": "stdout",
     "output_type": "stream",
     "text": [
      "              precision    recall  f1-score   support\n",
      "\n",
      "   Not Space       0.97      1.00      0.98      2689\n",
      "       Space       0.98      0.31      0.47       140\n",
      "\n",
      "    accuracy                           0.97      2829\n",
      "   macro avg       0.97      0.65      0.72      2829\n",
      "weighted avg       0.97      0.97      0.96      2829\n",
      "\n"
     ]
    }
   ],
   "source": [
    "report = classification_report(y_test, predictions, target_names=['Not Space', 'Space'])\n",
    "print(report)"
   ]
  },
  {
   "cell_type": "markdown",
   "metadata": {
    "colab_type": "text",
    "id": "Wv2I-70DY420"
   },
   "source": [
    "We could compare this report to the report on the dummy classifier. The dummy classifier can be used to make predictions in a similar way to a real classifier except we will get all results being the dominant class. We know in this example that the dominant class is the negative class so our dummy classifier will predict 0 instances as the positive class."
   ]
  },
  {
   "cell_type": "code",
   "execution_count": 0,
   "metadata": {
    "colab": {
     "base_uri": "https://localhost:8080/",
     "height": 224
    },
    "colab_type": "code",
    "id": "NhCRQPAUYJH2",
    "outputId": "8d2230c3-cb66-4c24-de1b-81a3b015cae4"
   },
   "outputs": [
    {
     "name": "stdout",
     "output_type": "stream",
     "text": [
      "              precision    recall  f1-score   support\n",
      "\n",
      "   Not Space       0.95      1.00      0.97      2689\n",
      "       Space       0.00      0.00      0.00       140\n",
      "\n",
      "    accuracy                           0.95      2829\n",
      "   macro avg       0.48      0.50      0.49      2829\n",
      "weighted avg       0.90      0.95      0.93      2829\n",
      "\n"
     ]
    },
    {
     "name": "stderr",
     "output_type": "stream",
     "text": [
      "/usr/local/lib/python3.6/dist-packages/sklearn/metrics/classification.py:1437: UndefinedMetricWarning: Precision and F-score are ill-defined and being set to 0.0 in labels with no predicted samples.\n",
      "  'precision', 'predicted', average, warn_for)\n"
     ]
    }
   ],
   "source": [
    "dummy_report = classification_report(y_test, dummy.predict(X_test), target_names=['Not Space', 'Space'])\n",
    "print(dummy_report)"
   ]
  },
  {
   "cell_type": "markdown",
   "metadata": {
    "colab_type": "text",
    "id": "Y0O4cOLQZXaO"
   },
   "source": [
    "The *UndefinedMetricWarning* is due to the fact that TP + FP == 0. This is a good indication that the classifier is not performing well even though the accuracy is high. Even if our classifier did have a few FP's the precision and recall would be quite low for that class."
   ]
  },
  {
   "cell_type": "markdown",
   "metadata": {
    "colab_type": "text",
    "id": "xqYk9tngq4vB"
   },
   "source": [
    "## Decision Function - Varying the Probability Threshold\n",
    "Given some input, the model generates some probabilities for each input. This is given by the *predict_proba()* method. Rather than giving actual predictions, this method gives a probability that this instance belongs to the positive class or not.\n",
    "\n",
    "In the following code the list of probabilities for the test data is generated and the first 30 values are printed."
   ]
  },
  {
   "cell_type": "code",
   "execution_count": 0,
   "metadata": {
    "colab": {
     "base_uri": "https://localhost:8080/",
     "height": 102
    },
    "colab_type": "code",
    "id": "SGrL2EMlq_YU",
    "outputId": "65349a06-dbc2-41b3-bc01-eb830fe7abfb"
   },
   "outputs": [
    {
     "name": "stdout",
     "output_type": "stream",
     "text": [
      "[0.0248159  0.020695   0.05572211 0.03511008 0.06031785 0.02055708\n",
      " 0.02714627 0.01448693 0.02388194 0.01780539 0.02255954 0.06867722\n",
      " 0.03430797 0.03560499 0.51359995 0.04758277 0.04038545 0.07175259\n",
      " 0.02592597 0.02338948 0.02488291 0.01849506 0.0467084  0.05104473\n",
      " 0.04508306 0.04778088 0.02607657 0.08092967 0.0427602 ]\n"
     ]
    }
   ],
   "source": [
    "probs = lr.predict_proba(X_test)[:, 1]\n",
    "print(probs[1:30])"
   ]
  },
  {
   "cell_type": "markdown",
   "metadata": {
    "colab_type": "text",
    "id": "cfaBR6h2ReC_"
   },
   "source": [
    "We have seen in the previous lesson that the probability threshold is 0.5: that is, if the probability is greater than 0.5 then we will predict positive and if it is less than 0.5 we will predict negative. In the plot below the probabilities of all test samples are plotted in two distribution plots. The red plot is the negative class and the green plot is the positive class. The blue line is the probability threshold. \n",
    "\n",
    "Notice that there are positive instances on both sides of the threshold. That means that all positive instances on the left of the threshold will be incorrectly classified as negative giving false negatives. "
   ]
  },
  {
   "cell_type": "code",
   "execution_count": 0,
   "metadata": {
    "colab": {
     "base_uri": "https://localhost:8080/",
     "height": 282
    },
    "colab_type": "code",
    "id": "S_OQCQ2HGnoN",
    "outputId": "8f8bb664-d6e5-4847-b4b8-6cf984172075"
   },
   "outputs": [
    {
     "data": {
      "image/png": "[encoded data removed]",
      "text/plain": [
       "<Figure size 576x288 with 1 Axes>"
      ]
     },
     "metadata": {
      "tags": []
     },
     "output_type": "display_data"
    }
   ],
   "source": [
    "pos = [i for i, j in zip(probs, y_test) if j == 1]\n",
    "neg = [i for i, j in zip(probs, y_test) if j == 0]\n",
    "\n",
    "with plt.xkcd():\n",
    "  fig = plt.figure(figsize=(8, 4))\n",
    "\n",
    "  sns.distplot(pos, hist = False, kde = True, color='g',\n",
    "                 kde_kws = {'shade': True, 'linewidth': 3})\n",
    "\n",
    "  sns.distplot(neg, hist = False, kde = True, color='r',\n",
    "                 kde_kws = {'shade': True, 'linewidth': 3})\n",
    "\n",
    "  plt.plot([0.5, 0.5], [0, 25], '-b')\n",
    "  plt.annotate(\n",
    "        'The probability threshold\\npositive to the right\\nnegative to the left',\n",
    "        xy=(0.51, 15), arrowprops=dict(arrowstyle='->'), xytext=(0.6, 20))\n",
    "\n",
    "plt.show()"
   ]
  },
  {
   "cell_type": "markdown",
   "metadata": {
    "colab_type": "text",
    "id": "n724uu0Ng5Jn"
   },
   "source": [
    "By adjusting the threshold we can affect the recall and precision values. Suppose we wanted to be sure that we got no false positives: that is, we do not want to classify any post as space if it was not about space. We could move the threshold to the right until there are no red instances on the right of the line. That correspondingly will mean that fewer positive instances will be correctly identified. Or, to put it another way, more positive instances will end up on the left of the threshold and will be incorrectly classified as negative."
   ]
  },
  {
   "cell_type": "markdown",
   "metadata": {
    "colab_type": "text",
    "id": "ePLqUSvXih07"
   },
   "source": [
    "## ROC curve\n",
    "If we set the threshold to 0 (moving the threshold all the way to the left) then the model predicts 1 for all samples. We will get a **true positive rate (tpr)** of 1, that is, all positive instances will be correctly predicted. We will also get a **false positive rate (fpr)** of 1 since all negative samples will be incorrectly predicted as positive.\n",
    "\n",
    "If we set the threshold to 1 then the model predicts 0 for all samples. We get a tpr of 0 since none of the actual positive samples will be correctly predicted and an fpr of 0 because none of the negative class will be predicted as positive.\n",
    "\n",
    "As we vary the threshold between these two extremes we get different tpr and fpr values. We can plot these values to see the relationship between the values as the threshold moves.\n",
    "\n",
    "The set of points we get when we vary the threshold from 0 to 1 can be connected to describe a curve through space which is called the **Receiver operating characteristic (ROC)** curve.\n",
    "\n",
    "The *sklearn.metrics.roc_curve* function calculates the fpr, tpr and threshold values that we can use to plot a ROC curve. Below the first 30 values are printed."
   ]
  },
  {
   "cell_type": "code",
   "execution_count": 0,
   "metadata": {
    "colab": {
     "base_uri": "https://localhost:8080/",
     "height": 272
    },
    "colab_type": "code",
    "id": "582PFFN1ij7K",
    "outputId": "f73a2b8a-2ec2-48ba-84d5-d0b2c4d89209"
   },
   "outputs": [
    {
     "name": "stdout",
     "output_type": "stream",
     "text": [
      "[0.         0.         0.0003712  0.0003712  0.00111359 0.00111359\n",
      " 0.00148478 0.00148478 0.00185598 0.00185598 0.00222717 0.00222717\n",
      " 0.00259837 0.00259837 0.00296956 0.00296956 0.00371195 0.00371195\n",
      " 0.00408315 0.00408315 0.00482554 0.00482554 0.00556793 0.00556793\n",
      " 0.00631032 0.00631032 0.00668151 0.00668151 0.0077951 ]\n",
      "[0.00740741 0.34814815 0.34814815 0.42222222 0.42222222 0.43703704\n",
      " 0.43703704 0.45925926 0.45925926 0.46666667 0.46666667 0.56296296\n",
      " 0.56296296 0.60740741 0.60740741 0.67407407 0.67407407 0.6962963\n",
      " 0.6962963  0.7037037  0.7037037  0.71111111 0.71111111 0.74074074\n",
      " 0.74074074 0.74814815 0.74814815 0.75555556 0.75555556]\n",
      "[0.98455459 0.45130809 0.43846095 0.37155632 0.36419485 0.35465436\n",
      " 0.35174136 0.32771419 0.32226421 0.32093017 0.30905333 0.25199815\n",
      " 0.25087406 0.23338874 0.23064304 0.18753157 0.17809479 0.16948091\n",
      " 0.16934644 0.164966   0.15767378 0.15701067 0.15061063 0.14647878\n",
      " 0.14503014 0.14341453 0.14221345 0.14030143 0.13773432]\n"
     ]
    }
   ],
   "source": [
    "fpr, tpr, thresholds = roc_curve(y_test, probs)\n",
    "print(fpr[1:30])\n",
    "print(tpr[1:30])\n",
    "print(thresholds[1:30])"
   ]
  },
  {
   "cell_type": "code",
   "execution_count": 0,
   "metadata": {
    "colab": {
     "base_uri": "https://localhost:8080/",
     "height": 404
    },
    "colab_type": "code",
    "id": "nX4xptQJmPUM",
    "outputId": "13f5baea-d771-4f8f-b783-ad5449e3d0a7"
   },
   "outputs": [
    {
     "data": {
      "image/png": "[encoded data removed]",
      "text/plain": [
       "<Figure size 432x432 with 1 Axes>"
      ]
     },
     "metadata": {
      "tags": []
     },
     "output_type": "display_data"
    }
   ],
   "source": [
    "fig = plt.figure(figsize = (6, 6))\n",
    "plt.plot([0, 1], [0, 1], 'k--')\n",
    "plt.plot(fpr, tpr)\n",
    "plt.xlabel('False Positive Rate')\n",
    "plt.ylabel('True Positive Rate')\n",
    "plt.title('ROC curve for Logistic Regression Model')\n",
    "plt.show()"
   ]
  },
  {
   "cell_type": "markdown",
   "metadata": {
    "colab_type": "text",
    "id": "-7izD9a3x7C7"
   },
   "source": [
    "The top left-hand corner of this graph is the ideal spot: it minimizes the false positive rate and maximizes the true positive rate. So a steep curve that gets close to that corner is better than a shallow curve that remains close to the dashed baseline. That dashed line represents a 50% chance classifier. That is, any classifier that works as well as a coin toss will have a curve close to that line. But that is as good as random. So curves just above that line are better than random. The particular curve for this classifier is quite good as you can see it steeply climbs before leveling out.\n",
    "\n"
   ]
  },
  {
   "cell_type": "markdown",
   "metadata": {
    "colab_type": "text",
    "id": "0yLCNgGQ10dB"
   },
   "source": [
    "## Precision-Recall Curve\n",
    "Another useful visualization is the precision-recall curve. Similar to the ROC curve it shows the relationship of precision to recall as the threshold is varied from 0 to 1. Again, the sklearn.metrics library provides a function that can help."
   ]
  },
  {
   "cell_type": "code",
   "execution_count": 0,
   "metadata": {
    "colab": {
     "base_uri": "https://localhost:8080/",
     "height": 404
    },
    "colab_type": "code",
    "id": "vyVzU2JV28E5",
    "outputId": "c1e2eabe-fefb-4107-8fa0-7814392cda69"
   },
   "outputs": [
    {
     "data": {
      "image/png": "[encoded data removed]",
      "text/plain": [
       "<Figure size 432x432 with 1 Axes>"
      ]
     },
     "metadata": {
      "tags": []
     },
     "output_type": "display_data"
    }
   ],
   "source": [
    "pres, rec, thresholds = precision_recall_curve(y_test, predictions)\n",
    "fig = plt.figure(figsize = (6, 6))\n",
    "plt.plot(rec, pres)\n",
    "plt.xlabel('Recall')\n",
    "plt.ylabel('Precision')\n",
    "plt.title('Precision-Recall Curve')\n",
    "plt.show()"
   ]
  },
  {
   "cell_type": "markdown",
   "metadata": {
    "colab_type": "text",
    "id": "fzpdAz-A4zh4"
   },
   "source": [
    "In this case, we see a smooth drop in precision as recall increases. We do not always have such a smooth curve but the general downward trend is expected.\n",
    "\n",
    "Remember that these two visualizations serve slightly different purposes.\n",
    "\n",
    " - **ROC curves** are used when the classes are more or less balanced.\n",
    " - **Precision-Recall curves** are used when there is a class imbalance.\n",
    " \n",
    " "
   ]
  },
  {
   "cell_type": "markdown",
   "metadata": {
    "colab_type": "text",
    "id": "PRcSLoOa5oYs"
   },
   "source": [
    "## Area under the ROC curve (AUC)\n",
    "Given the ROC curve can we compute a useful metric from it. Since the top left-hand corner is ideal we want to favor curves that get as close to that corner as possible. If we measure the area under the curve we get a useful metric that tells us how close we get to the ideal. In the plot below we shaded the area under the curve. Notice that if the curve gets closer to the baseline the area will be smaller.\n",
    "\n"
   ]
  },
  {
   "cell_type": "code",
   "execution_count": 0,
   "metadata": {
    "colab": {
     "base_uri": "https://localhost:8080/",
     "height": 404
    },
    "colab_type": "code",
    "id": "V7kjCQPF8aDU",
    "outputId": "67a062f8-c9be-4e71-f767-97bac65c69eb"
   },
   "outputs": [
    {
     "data": {
      "image/png": "[encoded data removed]",
      "text/plain": [
       "<Figure size 432x432 with 1 Axes>"
      ]
     },
     "metadata": {
      "tags": []
     },
     "output_type": "display_data"
    }
   ],
   "source": [
    "fig = plt.figure(figsize = (6, 6))\n",
    "plt.plot([0, 1], [0, 1], 'k--')\n",
    "plt.plot(fpr, tpr)\n",
    "plt.fill(fpr, tpr, 'grey', alpha=0.3)\n",
    "plt.xlabel('False Positive Rate')\n",
    "plt.ylabel('True Positive Rate')\n",
    "plt.title('ROC curve for Logistic Regression Model')\n",
    "plt.show()"
   ]
  },
  {
   "cell_type": "markdown",
   "metadata": {
    "colab_type": "text",
    "id": "MmWKZiqU8yW2"
   },
   "source": [
    "To calculate the area under the curve (AUC) we use the *roc_auc_score* function from sklearn.metrics. This function takes the actual labels and the predicted probabilities as input."
   ]
  },
  {
   "cell_type": "code",
   "execution_count": 0,
   "metadata": {
    "colab": {
     "base_uri": "https://localhost:8080/",
     "height": 34
    },
    "colab_type": "code",
    "id": "_bUCAfqq9KP8",
    "outputId": "b4a670ca-ad6c-4548-daa1-ecf69e4605d5"
   },
   "outputs": [
    {
     "name": "stdout",
     "output_type": "stream",
     "text": [
      "Area under the ROC curve: 0.985\n"
     ]
    }
   ],
   "source": [
    "auc = roc_auc_score(y_test, probs)\n",
    "print('Area under the ROC curve: {:.3f}'.format(auc))"
   ]
  },
  {
   "cell_type": "markdown",
   "metadata": {
    "colab_type": "text",
    "id": "Oe6ILSwDHmBB"
   },
   "source": [
    "## Cross Validation\n",
    "So far we have been using a train-test split to reserve a portion of our data for testing. We do this so that we have some previously unseen data to test the model. If we train and test with the same data we run the risk of overfitting the model to the training data.\n",
    "\n",
    "But there is still a risk of overfitting to the test data itself. If we tune our model to perform well on the test data, what guarantee do we have that it will continue to perform as well on new data? Also, we know that the training algorithm is susceptible to small changes in the data. Recall from the discussion on linear classifiers that we are searching for a set of parameter values that optimizes a cost function. There is no absolute right answer to such a search. The values we find are dependent on the data that we use to train the model.\n",
    "\n",
    "By splitting the data into just training and testing, we drastically reduce the number of samples which can be used for learning the model, and the results can depend on a particular random choice for the pair of sets.\n",
    "\n",
    "We can see that illustrated by calling train_test_split multiple times and training a model with the results each time. The train_test_split function randomly assigns data to the training set and test set. That means each time you call the function a different set of data is assigned to the test set."
   ]
  },
  {
   "cell_type": "code",
   "execution_count": 0,
   "metadata": {
    "colab": {
     "base_uri": "https://localhost:8080/",
     "height": 51
    },
    "colab_type": "code",
    "id": "ibNUzjhwNI5S",
    "outputId": "8dad2572-a1c3-42c4-804b-30e5c2ca6dda"
   },
   "outputs": [
    {
     "name": "stdout",
     "output_type": "stream",
     "text": [
      "First split score: 0.959\n",
      "Second split score: 0.967\n"
     ]
    }
   ],
   "source": [
    "X_train, X_test, y_train, y_test = train_test_split(X, y_2)\n",
    "\n",
    "lr = LogisticRegression(solver='lbfgs')\n",
    "lr.fit(X_train, y_train)\n",
    "print('First split score: {:.3f}'.format(lr.score(X_test, y_test)))\n",
    "\n",
    "X_train, X_test, y_train, y_test = train_test_split(X, y_2)\n",
    "\n",
    "lr = LogisticRegression(solver='lbfgs')\n",
    "lr.fit(X_train, y_train)\n",
    "print('Second split score: {:.3f}'.format(lr.score(X_test, y_test)))"
   ]
  },
  {
   "cell_type": "markdown",
   "metadata": {
    "colab_type": "text",
    "id": "XssqZnhPNf2b"
   },
   "source": [
    "In the code above train_test_split is called twice and two models are trained with the results. Notice that the accuracy varies between the models. The implication is that we run the risk of randomly selecting a biased training or testing dataset and end up with a model which does not generalize well to unseen data.\n",
    "\n",
    "That is where cross validation comes in.\n",
    "\n",
    "Before we explore cross validation, just a quick note about the randomness of train_test_split. If we get a different test set each time, and it results in a different accuracy score each time, how can we know whether any observed improvements are a result of our parameter tuning or just random chance? During model building it would be useful to create a test split that remained stable. To do this we use the **random_state** parameter. This parameter takes an integer and uses it as the seed for the random generator. That means you can specify the same number to get the same split each time. In the code below, two models are trained on two splits of the data again, this time with the same **random_state**."
   ]
  },
  {
   "cell_type": "code",
   "execution_count": 0,
   "metadata": {
    "colab": {
     "base_uri": "https://localhost:8080/",
     "height": 51
    },
    "colab_type": "code",
    "id": "Q1qVHr90OmGx",
    "outputId": "35b1fa67-9120-49d9-f43f-2ea96a9cae9c"
   },
   "outputs": [
    {
     "name": "stdout",
     "output_type": "stream",
     "text": [
      "First split score: 0.964\n",
      "Second split score: 0.964\n"
     ]
    }
   ],
   "source": [
    "X_train, X_test, y_train, y_test = train_test_split(X, y_2, random_state=40)\n",
    "\n",
    "lr = LogisticRegression(solver='lbfgs')\n",
    "lr.fit(X_train, y_train)\n",
    "print('First split score: {:.3f}'.format(lr.score(X_test, y_test)))\n",
    "\n",
    "X_train, X_test, y_train, y_test = train_test_split(X, y_2, random_state=40)\n",
    "\n",
    "lr = LogisticRegression(solver='lbfgs')\n",
    "lr.fit(X_train, y_train)\n",
    "print('Second split score: {:.3f}'.format(lr.score(X_test, y_test)))"
   ]
  },
  {
   "cell_type": "markdown",
   "metadata": {
    "colab_type": "text",
    "id": "KLRs34SsO6tW"
   },
   "source": [
    "Now back, to **cross validation**. Cross validation works by dividing the dataset into a specified number (k) of distinct sets called **folds**. Typically k = 5 or 10 folds, but you are free to use any number of folds that you wish. We then iterate the folds and train a model with k - 1 folds and use the remaining fold as the test set for validation. In each iteration, a different fold is used as the test set.\n",
    "\n",
    "This yields k accuracy scores for the k models that are created and trained. But, each model was trained on a different set of data and tested on a different set of data. Also, each data sample has a chance to be in the test set for one model. We can then find the mean of the scores to get an overall value for our model. \n",
    "\n",
    "The **sklearn.model_selection.cross_val_score** function performs this cross validation process providing an array of scores for each model created. Remember that this may be an expensive (in terms of time) process since you have to create and train k different models. Typically you first split the data into the training and test set using *train_test_split* as we did above and cross validation is done on the training set, while the test set is held for final evaluation of the selected model."
   ]
  },
  {
   "cell_type": "code",
   "execution_count": 0,
   "metadata": {
    "colab": {
     "base_uri": "https://localhost:8080/",
     "height": 51
    },
    "colab_type": "code",
    "id": "xIETjRsnW5Bi",
    "outputId": "06e3492b-f467-4cfe-bc99-343be4584f78"
   },
   "outputs": [
    {
     "name": "stdout",
     "output_type": "stream",
     "text": [
      "Accuracy scores for the 5 folds:  [0.95167943 0.96169711 0.95816146 0.95639364 0.95875074]\n",
      "Mean cross validatiion score: 0.957\n"
     ]
    }
   ],
   "source": [
    "X_train, X_test, y_train, y_test = train_test_split(X, y_2, random_state=40)\n",
    "clf = LogisticRegression(solver='lbfgs')\n",
    "cv_scores = cross_val_score(clf, X_train, y_train, cv = 5)\n",
    "\n",
    "print('Accuracy scores for the 5 folds: ', cv_scores)\n",
    "print('Mean cross validatiion score: {:.3f}'.format(np.mean(cv_scores)))"
   ]
  },
  {
   "cell_type": "markdown",
   "metadata": {},
   "source": [
    "Based on the scores, the model is able to predict consistently high on all 5 folds of the dataset.  This gives us assurance that the model is performing well on unseen data multiple times and it was not just by luck of the draw during the initial data split.\n"
   ]
  },
  {
   "cell_type": "markdown",
   "metadata": {
    "colab_type": "text",
    "id": "tRW939g-b2kK"
   },
   "source": [
    "# Conclusion:\n",
    "\n",
    "Accuracy score does not tell the whole story, so we use a variety of techniques to have a better understanding of how our classification model is performing.  \n",
    "\n",
    "With the different evaluation metrics presented, we can identify where the model is misclassifying and use this information to improve the model on further iterations.  \n",
    "\n",
    "We also want to consider trade-offs to better focus our time and energy for the next model iteration.  How the model will be used will drive those decisions.  \n",
    "\n",
    "We can now use the various model evaluation techniques described above along with cross validation to select the best performing model for our next project."
   ]
  }
 ],
 "metadata": {
  "colab": {
   "collapsed_sections": [],
   "name": "Copy of Checkpoint 6 Model Evaluation.ipynb",
   "provenance": [],
   "version": "0.3.2"
  },
  "kernelspec": {
   "display_name": "Python 3",
   "language": "python",
   "name": "python3"
  },
  "language_info": {
   "codemirror_mode": {
    "name": "ipython",
    "version": 3
   },
   "file_extension": ".py",
   "mimetype": "text/x-python",
   "name": "python",
   "nbconvert_exporter": "python",
   "pygments_lexer": "ipython3",
   "version": "3.7.4"
  }
 },
 "nbformat": 4,
 "nbformat_minor": 1
}
